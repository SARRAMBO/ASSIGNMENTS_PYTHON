{
 "cells": [
  {
   "cell_type": "markdown",
   "id": "968eb06b",
   "metadata": {},
   "source": [
    "1. Assign the value 7 to the variable guess_me. Then, write the conditional tests (if, else, and elif) to print the string 'too low' if guess_me is less than 7, 'too high' if greater than 7, and 'just right' if equal to 7.\n",
    "2. Assign the value 7 to the variable guess_me and the value 1 to the variable start. Write a while loop that compares start with guess_me. Print too low if start is less than guess me. If start equals guess_me, print 'found it!' and exit the loop. If start is greater than guess_me, print 'oops' and exit the loop. Increment start at the end of the loop.\n",
    "3. Print the following values of the list [3, 2, 1, 0] using a for loop.\n",
    "4. Use a list comprehension to make a list of the even numbers in range(10)\n",
    "5. Use a dictionary comprehension to create the dictionary squares. Use range(10) to return the keys, and use the square of each key as its value.\n",
    "6. Construct the set odd from the odd numbers in the range using a set comprehension (10).\n",
    "7. Use a generator comprehension to return the string 'Got ' and a number for the numbers in range(10). Iterate through this by using a for loop.\n",
    "8. Define a function called good that returns the list ['Harry', 'Ron', 'Hermione'].\n",
    "9. Define a generator function called get_odds that returns the odd numbers from range(10). Use a for loop to find and print the third value returned.\n",
    "10. Define an exception called OopsException. Raise this exception to see what happens. Then write the code to catch this exception and print 'Caught an oops'.\n",
    "11. Use zip() to make a dictionary called movies that pairs these lists: titles = ['Creature of Habit', 'Crewel Fate'] and plots = ['A nun turns into a monster', 'A haunted yarn shop'].\n",
    "\n"
   ]
  },
  {
   "cell_type": "code",
   "execution_count": 1,
   "id": "483b2d57",
   "metadata": {},
   "outputs": [
    {
     "name": "stdout",
     "output_type": "stream",
     "text": [
      "just right\n"
     ]
    }
   ],
   "source": [
    "#Q1-\n",
    "guess_me=7\n",
    "if guess_me <7:\n",
    "    print('too_low')\n",
    "elif guess_me==7:\n",
    "    print(\"just right\")\n",
    "else:\n",
    "    print('too high')"
   ]
  },
  {
   "cell_type": "code",
   "execution_count": null,
   "id": "7113ba55",
   "metadata": {},
   "outputs": [],
   "source": [
    "#Q2-\n",
    "guess_me=7\n",
    "start=1\n",
    "while True:\n",
    "    if start<guess_me:\n",
    "        print('too low')\n",
    "        start=start+1\n",
    "    elif start== guess_me:\n",
    "        print(\"foundit\")\n",
    "        start=start+1\n",
    "        break\n",
    "    else :\n",
    "        print(\"oops\")\n",
    "        \n",
    "    \n",
    "#both breaking away from loop when start==guess_me and 'oops' not possible in parallel.      "
   ]
  },
  {
   "cell_type": "code",
   "execution_count": 4,
   "id": "41e34a71",
   "metadata": {},
   "outputs": [
    {
     "name": "stdout",
     "output_type": "stream",
     "text": [
      "3 2 1 0 "
     ]
    }
   ],
   "source": [
    "#Q3-\n",
    "l=[3,2,1,0]\n",
    "for i in l:\n",
    "    print(i,end=' ')"
   ]
  },
  {
   "cell_type": "code",
   "execution_count": 6,
   "id": "4ddb0af7",
   "metadata": {},
   "outputs": [
    {
     "data": {
      "text/plain": [
       "[0, 2, 4, 6, 8]"
      ]
     },
     "execution_count": 6,
     "metadata": {},
     "output_type": "execute_result"
    }
   ],
   "source": [
    "#Q4-\n",
    "l=[i for i in range(10)if i%2==0]\n",
    "l"
   ]
  },
  {
   "cell_type": "code",
   "execution_count": 9,
   "id": "1a653f03",
   "metadata": {},
   "outputs": [
    {
     "data": {
      "text/plain": [
       "{0: 0, 1: 1, 2: 4, 3: 9, 4: 16, 5: 25, 6: 36, 7: 49, 8: 64, 9: 81}"
      ]
     },
     "execution_count": 9,
     "metadata": {},
     "output_type": "execute_result"
    }
   ],
   "source": [
    "#Q5-\n",
    "d={i:i*i for i in range(10)}\n",
    "d"
   ]
  },
  {
   "cell_type": "code",
   "execution_count": 22,
   "id": "9ae25f14",
   "metadata": {},
   "outputs": [
    {
     "data": {
      "text/plain": [
       "{1, 3, 5, 7, 9}"
      ]
     },
     "execution_count": 22,
     "metadata": {},
     "output_type": "execute_result"
    }
   ],
   "source": [
    "#Q6-\n",
    "l1={i for i in range(10) if i%2!=0}\n",
    "l1"
   ]
  },
  {
   "cell_type": "code",
   "execution_count": 19,
   "id": "868e7807",
   "metadata": {},
   "outputs": [],
   "source": [
    "#Q7-\n",
    "def got():\n",
    "    for i in range(10):\n",
    "        yield(\"got\"+str(i))"
   ]
  },
  {
   "cell_type": "code",
   "execution_count": 21,
   "id": "919c1f7d",
   "metadata": {},
   "outputs": [
    {
     "data": {
      "text/plain": [
       "['got0',\n",
       " 'got1',\n",
       " 'got2',\n",
       " 'got3',\n",
       " 'got4',\n",
       " 'got5',\n",
       " 'got6',\n",
       " 'got7',\n",
       " 'got8',\n",
       " 'got9']"
      ]
     },
     "execution_count": 21,
     "metadata": {},
     "output_type": "execute_result"
    }
   ],
   "source": [
    "list(got())"
   ]
  },
  {
   "cell_type": "code",
   "execution_count": 23,
   "id": "e9ad3495",
   "metadata": {},
   "outputs": [],
   "source": [
    "#Q8-\n",
    "l=[\"Harry\",\"Ron\",\"Hermoine\"]\n",
    "def good():\n",
    "    return l"
   ]
  },
  {
   "cell_type": "code",
   "execution_count": 24,
   "id": "f680ca1f",
   "metadata": {},
   "outputs": [
    {
     "data": {
      "text/plain": [
       "['Harry', 'Ron', 'Hermoine']"
      ]
     },
     "execution_count": 24,
     "metadata": {},
     "output_type": "execute_result"
    }
   ],
   "source": [
    "good()"
   ]
  },
  {
   "cell_type": "code",
   "execution_count": 25,
   "id": "8d11c290",
   "metadata": {},
   "outputs": [],
   "source": [
    "#Q9-\n",
    "def get_odds():\n",
    "    for i in range(10):\n",
    "        if i%2 != 0:\n",
    "            yield i"
   ]
  },
  {
   "cell_type": "code",
   "execution_count": 31,
   "id": "d120e4d3",
   "metadata": {},
   "outputs": [
    {
     "data": {
      "text/plain": [
       "7"
      ]
     },
     "execution_count": 31,
     "metadata": {},
     "output_type": "execute_result"
    }
   ],
   "source": [
    "l1=[]\n",
    "for i in get_odds():\n",
    "    l1.append(i)\n",
    "l1[3] "
   ]
  },
  {
   "cell_type": "code",
   "execution_count": 33,
   "id": "e871a831",
   "metadata": {},
   "outputs": [],
   "source": [
    "#Q10-\n",
    "class OopsException(Exception):\n",
    "    def __init__(self,*args):\n",
    "        self.i=args"
   ]
  },
  {
   "cell_type": "code",
   "execution_count": 35,
   "id": "119c1d0c",
   "metadata": {},
   "outputs": [
    {
     "name": "stdout",
     "output_type": "stream",
     "text": [
      "Caught in oops\n"
     ]
    }
   ],
   "source": [
    "try:\n",
    "    raise OopsException(\"Caught in oops\") #passing of values as in constructor\n",
    "except OopsException as o: #creating of custom exception class object.\n",
    "    print(str(o))"
   ]
  },
  {
   "cell_type": "code",
   "execution_count": 39,
   "id": "fa2f1442",
   "metadata": {},
   "outputs": [
    {
     "data": {
      "text/plain": [
       "{'Creature of Habit': 'A nun turns into a monster',\n",
       " 'Crewel Fate': 'A haunted yarn shop'}"
      ]
     },
     "execution_count": 39,
     "metadata": {},
     "output_type": "execute_result"
    }
   ],
   "source": [
    "#Q11-\n",
    "titles = ['Creature of Habit', 'Crewel Fate']\n",
    "plots = ['A nun turns into a monster', 'A haunted yarn shop']\n",
    "d=dict(zip(titles,plots))\n",
    "d"
   ]
  },
  {
   "cell_type": "code",
   "execution_count": null,
   "id": "13dd54b5",
   "metadata": {},
   "outputs": [],
   "source": []
  }
 ],
 "metadata": {
  "kernelspec": {
   "display_name": "Python 3 (ipykernel)",
   "language": "python",
   "name": "python3"
  },
  "language_info": {
   "codemirror_mode": {
    "name": "ipython",
    "version": 3
   },
   "file_extension": ".py",
   "mimetype": "text/x-python",
   "name": "python",
   "nbconvert_exporter": "python",
   "pygments_lexer": "ipython3",
   "version": "3.9.7"
  }
 },
 "nbformat": 4,
 "nbformat_minor": 5
}
