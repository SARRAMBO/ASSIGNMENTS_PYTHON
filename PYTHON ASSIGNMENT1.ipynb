{
 "cells": [
  {
   "cell_type": "markdown",
   "id": "58ea3f8d",
   "metadata": {},
   "source": [
    "1. In the below elements which of them are values or an expression? eg:- values can be integer or string and expressions will be mathematical operators.\n",
    "ANS1)-\n",
    "*      - EXPRESSIONS\n",
    "'hello'- VALUES\n",
    "-87.8-   VALUES\n",
    "-      - EXPRESSIONS\n",
    "/      - VALUES\n",
    "+\t   - EXPRESSIONS\n",
    "6      - VALUES\n",
    "\n",
    "2. What is the difference between string and variable?\n",
    "ANS2)-\n",
    "STRING IS A ITERABLE COLLECTION OF CHARACTERS DEFINED IN \"\" OR '' WHICH CAN BE STORED IN AN INDEX FORMAT(IMMUTABLE INDICES).\n",
    "EX- \"SARTHAK IS AGOOD BOY\" IS A STRING.\n",
    "\n",
    "VARIABLE IS THE LINK/THREAD ATTACHED TO THE MEMORY ADDRESS IN RAM IN WHICH DATA OF ANY DATA TYPE CAN BE STORED.\n",
    "EX- S=[1,2,3,4],D=\"FATHER\", S1=3(VARIABLE CAN BE DECLARED FOR STORING DATA OF ANY DATA TYPE IN RAM IN ORDER TO BE PROCESSED BY CPU.)\n",
    "\n",
    "3. Describe three different data types.\n",
    "ANS3)-\n",
    "STRING- ITS A ITERABLE COLLECTION OF CHARACTERS DEFINED IN '' OR \"\" WHICH CAN BE STORED IN AN INDEX FORMAT(IMMUTABLE INDICES)\n",
    "EX- S='SARTHAK'\n",
    "\n",
    "INT- ITS BASICALLY REFERS TO A NON ITERABLE INTEGER VALUE HELD BY A VARIABLE.\n",
    "D=67,H=90\n",
    "\n",
    "BOOL- ITS BASICALLY STORED IN AS True or False in a variable.\n",
    "ex- t=True f=False \n",
    "python compiler recognises {},[],0,() automatically as False and 1 as True.\n",
    "\n",
    "4. What is an expression made up of? What do all expressions do?\n",
    "ANS4)-\n",
    "EXpression is basically made up of an operator(ex-mathematical operator) and values on both sides of it.It shows a value obtained by computation operation according to the expression symbol between two values.(scripting approach)\n",
    "\n",
    "ex- * expression- 2*3 gives output 6 on console.\n",
    "\n",
    "\n",
    "5. This assignment statements, like spam = 10. What is the difference between an expression and a statement?\n",
    "ANS5)-\n",
    "IN an expression between 2 or more values,the computation is performed according to the expression and output shown on console.\n",
    "ex- 2+7 gives 9 on console\n",
    "\n",
    "In a statement,output is not neccesarily shown on console,Statement may assign some value to variable or may check whether a condition is giving True or False as return so as to enter inside its indentation or not.\n",
    "\n",
    "ex- if True:  (is a statement)\n",
    "\n",
    "6. After running the following code, what does the variable bacon contain?\n",
    "ANS6)-\n",
    "bacon = 22\n",
    "bacon + 1\n",
    "bacon contains 22 only.\n",
    "\n",
    "7. What should the values of the following two terms be?\n",
    "ANS7)-\n",
    "'spam' + 'spamspam'- 'spamspamspam'\n",
    "'spam' * 3- 'spamspamspam'\n",
    "Since string suppports concatenation with other strings and multiplication of string with a integer,both of the above shall fetch similar result\n",
    "\n",
    "8. Why is eggs a valid variable name while 100 is invalid?\n",
    "ANS8)-\n",
    "Since first character of a variable cannot start with an integer,so eggs is acceptable as variable whereas 100 is not.\n",
    "\n",
    "9. What three functions can be used to get the integer, floating-point number, or string version of a value?\n",
    "ANS9-)\n",
    "Example-\n",
    "s=100+34j\n",
    "int(s.real)-int function typecasts into int value(100)\n",
    "float(s.real)-float function typecasts into float value(100.0)\n",
    "str(s.real)-str function typecasts into string ('100.0')\n",
    "\n",
    "\n",
    "10. Why does this expression cause an error? How can you fix it?\n",
    "'I have eaten ' + 99 + ' burritos.'\n",
    "ANS10)- \n",
    " Since,concatenation operation is not supported with a string and integer(we should either typecast 99 into string by using str or enclose 99 in \"\"/'' in order to be recognised as string by the compiler.\n",
    "\n"
   ]
  },
  {
   "cell_type": "code",
   "execution_count": 8,
   "id": "a45d09d5",
   "metadata": {},
   "outputs": [
    {
     "data": {
      "text/plain": [
       "'I have eaten 99 burritos.'"
      ]
     },
     "execution_count": 8,
     "metadata": {},
     "output_type": "execute_result"
    }
   ],
   "source": [
    "'I have eaten ' + '99' + ' burritos.' #Q10"
   ]
  },
  {
   "cell_type": "code",
   "execution_count": 4,
   "id": "b6630d47",
   "metadata": {},
   "outputs": [
    {
     "data": {
      "text/plain": [
       "22"
      ]
     },
     "execution_count": 4,
     "metadata": {},
     "output_type": "execute_result"
    }
   ],
   "source": [
    "bacon=22  #Q6\n",
    "bacon +1\n",
    "bacon"
   ]
  },
  {
   "cell_type": "code",
   "execution_count": 6,
   "id": "2ce5c449",
   "metadata": {},
   "outputs": [
    {
     "data": {
      "text/plain": [
       "'spamspamspam'"
      ]
     },
     "execution_count": 6,
     "metadata": {},
     "output_type": "execute_result"
    }
   ],
   "source": [
    "\"spam\" + \"spamspam\" #Q7\n"
   ]
  },
  {
   "cell_type": "code",
   "execution_count": 7,
   "id": "2fa6ce46",
   "metadata": {},
   "outputs": [
    {
     "data": {
      "text/plain": [
       "'spamspamspam'"
      ]
     },
     "execution_count": 7,
     "metadata": {},
     "output_type": "execute_result"
    }
   ],
   "source": [
    "\"spam\"*3    #Q7"
   ]
  },
  {
   "cell_type": "code",
   "execution_count": null,
   "id": "9c3ef847",
   "metadata": {},
   "outputs": [],
   "source": []
  }
 ],
 "metadata": {
  "kernelspec": {
   "display_name": "Python 3",
   "language": "python",
   "name": "python3"
  },
  "language_info": {
   "codemirror_mode": {
    "name": "ipython",
    "version": 3
   },
   "file_extension": ".py",
   "mimetype": "text/x-python",
   "name": "python",
   "nbconvert_exporter": "python",
   "pygments_lexer": "ipython3",
   "version": "3.8.8"
  }
 },
 "nbformat": 4,
 "nbformat_minor": 5
}
