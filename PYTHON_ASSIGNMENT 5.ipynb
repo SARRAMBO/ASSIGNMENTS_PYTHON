{
 "cells": [
  {
   "cell_type": "markdown",
   "id": "f398b797",
   "metadata": {},
   "source": [
    "1. What does an empty dictionary's code look like?\n",
    "Ans1)- Any variable storing {} braces gets stored by default as a dictionary.\n",
    "        d={}\n",
    "\n",
    "\n",
    "2. What is the value of a dictionary value with the key 'foo' and the value 42?\n",
    "Ans2)-  d={'foo':42}\n",
    "        d['foo']=42\n",
    "\n",
    "3. What is the most significant distinction between a dictionary and a list?\n",
    "Ans3)-\n",
    "       In list,the items stored are in ordered form. In dictionary the items stored are in unordered form.\n",
    "       In list,addition with a list and multiplication with a number is possible whereas in dictionary its not possible.\n",
    "       In list,sliced data can be stored in as other list,but in dictionary its not possible.\n",
    "\n",
    "4. What happens if you try to access spam['foo'] if spam is {'bar': 100}?\n",
    "Ans4)-\n",
    "       Since 'foo' is not a key in spam,it shows keyerror.\n",
    "       ---------------------------------------------------------------------------\n",
    "KeyError                                  Traceback (most recent call last)\n",
    "<ipython-input-5-6edea1f6129a> in <module>\n",
    "      1 spam= {\"bar\":100}\n",
    "----> 2 spam[\"foo\"]\n",
    "\n",
    "KeyError: 'foo'\n",
    "\n",
    "1\n",
    "​\n",
    "\n",
    "\n",
    "5. If a dictionary is stored in spam, what is the difference between the expressions 'cat' in spam and 'cat' in spam.keys()?\n",
    "Ans 5)- \n",
    "       Both return False as 'cat' in not a key in spam. In both the places the 'in' operator checks whether 'cat' is a key in spam(dictionary)(no difference)\n",
    "    \n",
    "6. If a dictionary is stored in spam, what is the difference between the expressions 'cat' in spam and 'cat' in spam.values()?\n",
    "Ans6)-  'cat' in spam checks whether 'cat' is a key in spam.\n",
    "         'cat' in spam.values() checks whether 'cat' is a value in spam.\n",
    "    \n",
    "    \n",
    "7. What is a shortcut for the following code?\n",
    "if 'color' not in spam:\n",
    "spam['color'] = 'black'\n",
    "    \n",
    " Ans7)-\n",
    "    spam.setdefault('color', 'black')  \n",
    "\n",
    "8. How do you \"pretty print\" dictionary values using which module and function?\n",
    "Ans8)-import pprint\n",
    "      pprint.pprint()\n"
   ]
  },
  {
   "cell_type": "code",
   "execution_count": 5,
   "id": "c9979eec",
   "metadata": {},
   "outputs": [
    {
     "ename": "KeyError",
     "evalue": "'foo'",
     "output_type": "error",
     "traceback": [
      "\u001b[1;31m---------------------------------------------------------------------------\u001b[0m",
      "\u001b[1;31mKeyError\u001b[0m                                  Traceback (most recent call last)",
      "\u001b[1;32m<ipython-input-5-6edea1f6129a>\u001b[0m in \u001b[0;36m<module>\u001b[1;34m\u001b[0m\n\u001b[0;32m      1\u001b[0m \u001b[0mspam\u001b[0m\u001b[1;33m=\u001b[0m \u001b[1;33m{\u001b[0m\u001b[1;34m\"bar\"\u001b[0m\u001b[1;33m:\u001b[0m\u001b[1;36m100\u001b[0m\u001b[1;33m}\u001b[0m\u001b[1;33m\u001b[0m\u001b[1;33m\u001b[0m\u001b[0m\n\u001b[1;32m----> 2\u001b[1;33m \u001b[0mspam\u001b[0m\u001b[1;33m[\u001b[0m\u001b[1;34m\"foo\"\u001b[0m\u001b[1;33m]\u001b[0m\u001b[1;33m\u001b[0m\u001b[1;33m\u001b[0m\u001b[0m\n\u001b[0m",
      "\u001b[1;31mKeyError\u001b[0m: 'foo'"
     ]
    }
   ],
   "source": [
    "spam= {\"bar\":100}\n",
    "spam[\"foo\"]"
   ]
  },
  {
   "cell_type": "code",
   "execution_count": 7,
   "id": "e07769db",
   "metadata": {},
   "outputs": [
    {
     "data": {
      "text/plain": [
       "False"
      ]
     },
     "execution_count": 7,
     "metadata": {},
     "output_type": "execute_result"
    }
   ],
   "source": [
    "'cat' in spam\n",
    "\"cat\" in spam.keys()"
   ]
  },
  {
   "cell_type": "code",
   "execution_count": 13,
   "id": "904012f7",
   "metadata": {},
   "outputs": [
    {
     "data": {
      "text/plain": [
       "{'bar': 100, 'color': 'black'}"
      ]
     },
     "execution_count": 13,
     "metadata": {},
     "output_type": "execute_result"
    }
   ],
   "source": [
    "#Q7)-\n",
    "spam.setdefault('color',\"black\") #adding a new key value pair in dictionary.\n",
    "spam"
   ]
  },
  {
   "cell_type": "code",
   "execution_count": 22,
   "id": "fcfd7376",
   "metadata": {},
   "outputs": [],
   "source": [
    "#Q8-  "
   ]
  },
  {
   "cell_type": "code",
   "execution_count": 21,
   "id": "51358ee8",
   "metadata": {},
   "outputs": [],
   "source": [
    "import pprint\n",
    "from pprint import *"
   ]
  },
  {
   "cell_type": "code",
   "execution_count": 19,
   "id": "3b08d7a5",
   "metadata": {},
   "outputs": [
    {
     "name": "stdout",
     "output_type": "stream",
     "text": [
      "{'bar': 100, 'color': 'black'}\n"
     ]
    }
   ],
   "source": [
    "pprint(spam)"
   ]
  },
  {
   "cell_type": "code",
   "execution_count": 20,
   "id": "a4500643",
   "metadata": {},
   "outputs": [
    {
     "data": {
      "text/plain": [
       "{'bar': 100, 'color': 'black'}"
      ]
     },
     "execution_count": 20,
     "metadata": {},
     "output_type": "execute_result"
    }
   ],
   "source": [
    "spam"
   ]
  },
  {
   "cell_type": "code",
   "execution_count": null,
   "id": "bdc78e4d",
   "metadata": {},
   "outputs": [],
   "source": []
  }
 ],
 "metadata": {
  "kernelspec": {
   "display_name": "Python 3",
   "language": "python",
   "name": "python3"
  },
  "language_info": {
   "codemirror_mode": {
    "name": "ipython",
    "version": 3
   },
   "file_extension": ".py",
   "mimetype": "text/x-python",
   "name": "python",
   "nbconvert_exporter": "python",
   "pygments_lexer": "ipython3",
   "version": "3.8.8"
  }
 },
 "nbformat": 4,
 "nbformat_minor": 5
}
