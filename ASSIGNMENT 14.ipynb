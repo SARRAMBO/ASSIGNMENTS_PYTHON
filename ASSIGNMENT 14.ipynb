{
 "cells": [
  {
   "cell_type": "markdown",
   "id": "7da1cc7b",
   "metadata": {},
   "source": [
    "1. What does RGBA stand for?\n",
    "Ans1)-\n",
    "An RGBA value is a tuple of 4 integers, each ranging from 0 to 255. The four integers correspond to the amount of red, green, blue, and alpha (transparency) in the color.\n",
    "\n",
    "\n",
    "2. From the Pillow module, how do you get the RGBA value of any images?\n",
    "Ans2)-A function call to ImageColor.getcolor('CornflowerBlue', 'RGBA') will return (100, 149, 237, 255), the RGBA value for that color.\n",
    "\n",
    "3. What is a box tuple, and how does it work?\n",
    "Ans3)-\n",
    "A box tuple is a tuple value of four integers: the left edge x-coordinate, the top edge y-coordinate, the width, and the height, respectively.\n",
    "\n",
    "\n",
    "4. Use your image and load in notebook then, How can you find out the width and height of an Image object?\n",
    "Ans4)-imageObj.size is a tuple of two integers, the width and the height of the image object respectively\n",
    "\n",
    "\n",
    "5. What method would you call to get Image object for a 100×100 image, excluding the lower-left quarter of it?\n",
    "Ans15)-\n",
    "\n",
    "6. After making changes to an Image object, how could you save it as an image file?\n",
    "Ans6)-\n",
    "Call the imageObj.save('new_filename.png') method of the Image object.\n",
    "\n",
    "7. What module contains Pillow’s shape-drawing code?\n",
    "Ans7)-The ImageDraw module contains code to draw shapes images.\n",
    "\n",
    "8. Image objects do not have drawing methods. What kind of object does? How do you get this kind of object?\n",
    "Ans8)-\n",
    "ImageDraw objects have shape-drawing methods such as point(), line(), or rectangle(). They are returned by passing the Image object to the ImageDraw.Draw() function."
   ]
  }
 ],
 "metadata": {
  "kernelspec": {
   "display_name": "Python 3 (ipykernel)",
   "language": "python",
   "name": "python3"
  },
  "language_info": {
   "codemirror_mode": {
    "name": "ipython",
    "version": 3
   },
   "file_extension": ".py",
   "mimetype": "text/x-python",
   "name": "python",
   "nbconvert_exporter": "python",
   "pygments_lexer": "ipython3",
   "version": "3.9.7"
  }
 },
 "nbformat": 4,
 "nbformat_minor": 5
}
