{
 "cells": [
  {
   "cell_type": "markdown",
   "id": "2791bf05",
   "metadata": {},
   "source": [
    "# SHOW DATABASES-"
   ]
  },
  {
   "cell_type": "code",
   "execution_count": 13,
   "id": "7e646dae",
   "metadata": {},
   "outputs": [],
   "source": [
    "import mysql.connector as connection\n",
    "mydb=connection.connect(host=\"localhost\",user=\"root\",passwd=\"mysql\",use_pure=True)\n",
    "mycursor=mydb.cursor()\n",
    "mycursor.execute(\"SHOW DATABASES\")"
   ]
  },
  {
   "cell_type": "code",
   "execution_count": 9,
   "id": "f4f26a14",
   "metadata": {},
   "outputs": [
    {
     "name": "stdout",
     "output_type": "stream",
     "text": [
      "[('information_schema',), ('jswvssut',), ('kid',), ('mysql',), ('performance_schema',), ('sakila',), ('sarthak',), ('saturday',), ('sunday',), ('sys',), ('test1',), ('tuesday',), ('wedeve',), ('wednesday',), ('world',)]\n"
     ]
    }
   ],
   "source": [
    "l=[]\n",
    "for i in mycursor:\n",
    "    l.append(i)\n",
    "print(l)"
   ]
  },
  {
   "cell_type": "code",
   "execution_count": 10,
   "id": "5bdc27ae",
   "metadata": {},
   "outputs": [
    {
     "data": {
      "text/html": [
       "<div>\n",
       "<style scoped>\n",
       "    .dataframe tbody tr th:only-of-type {\n",
       "        vertical-align: middle;\n",
       "    }\n",
       "\n",
       "    .dataframe tbody tr th {\n",
       "        vertical-align: top;\n",
       "    }\n",
       "\n",
       "    .dataframe thead th {\n",
       "        text-align: right;\n",
       "    }\n",
       "</style>\n",
       "<table border=\"1\" class=\"dataframe\">\n",
       "  <thead>\n",
       "    <tr style=\"text-align: right;\">\n",
       "      <th></th>\n",
       "      <th>Database</th>\n",
       "    </tr>\n",
       "  </thead>\n",
       "  <tbody>\n",
       "    <tr>\n",
       "      <th>0</th>\n",
       "      <td>information_schema</td>\n",
       "    </tr>\n",
       "    <tr>\n",
       "      <th>1</th>\n",
       "      <td>jswvssut</td>\n",
       "    </tr>\n",
       "    <tr>\n",
       "      <th>2</th>\n",
       "      <td>kid</td>\n",
       "    </tr>\n",
       "    <tr>\n",
       "      <th>3</th>\n",
       "      <td>mysql</td>\n",
       "    </tr>\n",
       "    <tr>\n",
       "      <th>4</th>\n",
       "      <td>performance_schema</td>\n",
       "    </tr>\n",
       "    <tr>\n",
       "      <th>5</th>\n",
       "      <td>sakila</td>\n",
       "    </tr>\n",
       "    <tr>\n",
       "      <th>6</th>\n",
       "      <td>sarthak</td>\n",
       "    </tr>\n",
       "    <tr>\n",
       "      <th>7</th>\n",
       "      <td>saturday</td>\n",
       "    </tr>\n",
       "    <tr>\n",
       "      <th>8</th>\n",
       "      <td>sunday</td>\n",
       "    </tr>\n",
       "    <tr>\n",
       "      <th>9</th>\n",
       "      <td>sys</td>\n",
       "    </tr>\n",
       "    <tr>\n",
       "      <th>10</th>\n",
       "      <td>test1</td>\n",
       "    </tr>\n",
       "    <tr>\n",
       "      <th>11</th>\n",
       "      <td>tuesday</td>\n",
       "    </tr>\n",
       "    <tr>\n",
       "      <th>12</th>\n",
       "      <td>wedeve</td>\n",
       "    </tr>\n",
       "    <tr>\n",
       "      <th>13</th>\n",
       "      <td>wednesday</td>\n",
       "    </tr>\n",
       "    <tr>\n",
       "      <th>14</th>\n",
       "      <td>world</td>\n",
       "    </tr>\n",
       "  </tbody>\n",
       "</table>\n",
       "</div>"
      ],
      "text/plain": [
       "              Database\n",
       "0   information_schema\n",
       "1             jswvssut\n",
       "2                  kid\n",
       "3                mysql\n",
       "4   performance_schema\n",
       "5               sakila\n",
       "6              sarthak\n",
       "7             saturday\n",
       "8               sunday\n",
       "9                  sys\n",
       "10               test1\n",
       "11             tuesday\n",
       "12              wedeve\n",
       "13           wednesday\n",
       "14               world"
      ]
     },
     "execution_count": 10,
     "metadata": {},
     "output_type": "execute_result"
    }
   ],
   "source": [
    "import pandas as pd\n",
    "pd.read_sql(\"SHOW DATABASES\",mydb) #showing list od databses in neat tabular format through pandas dataframe object."
   ]
  },
  {
   "cell_type": "code",
   "execution_count": 16,
   "id": "56cd8ab7",
   "metadata": {},
   "outputs": [],
   "source": [
    "mydb=connection.connect(host=\"localhost\",database=\"SATURDAY\",user=\"root\",passwd=\"mysql\",use_pure=True)\n",
    "mycursor=mydb.cursor()\n",
    "mycursor.execute(\"SHOW DATABASES\")\n",
    "mycursor.fetchall()\n",
    "mydb.close()"
   ]
  },
  {
   "cell_type": "markdown",
   "id": "e8170aee",
   "metadata": {},
   "source": [
    "# CREATE TABLE-"
   ]
  },
  {
   "cell_type": "code",
   "execution_count": 17,
   "id": "71ec2be1",
   "metadata": {},
   "outputs": [],
   "source": [
    "mydb=connection.connect(host=\"localhost\",user=\"root\",passwd=\"mysql\",database=\"SUNDAY\",use_pure=True)"
   ]
  },
  {
   "cell_type": "code",
   "execution_count": 7,
   "id": "6d3fbacd",
   "metadata": {},
   "outputs": [
    {
     "data": {
      "text/plain": [
       "True"
      ]
     },
     "execution_count": 7,
     "metadata": {},
     "output_type": "execute_result"
    }
   ],
   "source": [
    "mydb.is_connected()"
   ]
  },
  {
   "cell_type": "code",
   "execution_count": 19,
   "id": "c7c646c1",
   "metadata": {},
   "outputs": [],
   "source": [
    "mycursor=mydb.cursor()"
   ]
  },
  {
   "cell_type": "code",
   "execution_count": 20,
   "id": "64bcba5e",
   "metadata": {},
   "outputs": [],
   "source": [
    "mycursor.execute(\"CREATE TABLE SUNDAY.N1 (C1 INT(20),C2 VARCHAR(50),C3 DATE)\")"
   ]
  },
  {
   "cell_type": "code",
   "execution_count": 21,
   "id": "87e50baa",
   "metadata": {},
   "outputs": [],
   "source": [
    "mycursor.execute(\"SHOW TABLES\") #as default database is already passed in connection object,show tables command is working here"
   ]
  },
  {
   "cell_type": "code",
   "execution_count": 22,
   "id": "fb4bba76",
   "metadata": {},
   "outputs": [
    {
     "name": "stdout",
     "output_type": "stream",
     "text": [
      "('m1',)\n",
      "('n',)\n",
      "('n1',)\n"
     ]
    }
   ],
   "source": [
    "for i in mycursor:   #TABLE IS CREATED.\n",
    "    print(i)"
   ]
  },
  {
   "cell_type": "code",
   "execution_count": 23,
   "id": "2a8b943d",
   "metadata": {},
   "outputs": [
    {
     "data": {
      "text/html": [
       "<div>\n",
       "<style scoped>\n",
       "    .dataframe tbody tr th:only-of-type {\n",
       "        vertical-align: middle;\n",
       "    }\n",
       "\n",
       "    .dataframe tbody tr th {\n",
       "        vertical-align: top;\n",
       "    }\n",
       "\n",
       "    .dataframe thead th {\n",
       "        text-align: right;\n",
       "    }\n",
       "</style>\n",
       "<table border=\"1\" class=\"dataframe\">\n",
       "  <thead>\n",
       "    <tr style=\"text-align: right;\">\n",
       "      <th></th>\n",
       "      <th>Tables_in_sunday</th>\n",
       "    </tr>\n",
       "  </thead>\n",
       "  <tbody>\n",
       "    <tr>\n",
       "      <th>0</th>\n",
       "      <td>m1</td>\n",
       "    </tr>\n",
       "    <tr>\n",
       "      <th>1</th>\n",
       "      <td>n</td>\n",
       "    </tr>\n",
       "    <tr>\n",
       "      <th>2</th>\n",
       "      <td>n1</td>\n",
       "    </tr>\n",
       "  </tbody>\n",
       "</table>\n",
       "</div>"
      ],
      "text/plain": [
       "  Tables_in_sunday\n",
       "0               m1\n",
       "1                n\n",
       "2               n1"
      ]
     },
     "execution_count": 23,
     "metadata": {},
     "output_type": "execute_result"
    }
   ],
   "source": [
    "pd.read_sql(\"SHOW TABLES\",mydb) #In mydb connection object the default databse is selected hence this query is getting fired through"
   ]
  },
  {
   "cell_type": "markdown",
   "id": "3e2d638e",
   "metadata": {},
   "source": [
    "Primary Key-\n",
    "When creating a table, you should also create a column with a unique key for each record.\n",
    "\n",
    "This can be done by defining a PRIMARY KEY. It doesnt allow duplicate entries for that particular column.\n",
    "auto increment primary key sets id of the entire record as the entry inserted in that column. equivalent to immutable _id field in mongo.\n",
    "\n",
    "We use the statement \"INT AUTO_INCREMENT PRIMARY KEY\" which will insert a unique number for each record. Starting at 1, and increased by one for each record."
   ]
  },
  {
   "cell_type": "code",
   "execution_count": 16,
   "id": "ac22c08b",
   "metadata": {},
   "outputs": [],
   "source": [
    "#if table already exists we can use alter keyword to add a column-"
   ]
  },
  {
   "cell_type": "code",
   "execution_count": 22,
   "id": "65223310",
   "metadata": {},
   "outputs": [
    {
     "name": "stdout",
     "output_type": "stream",
     "text": [
      "1075 (42000): Incorrect table definition; there can be only one auto column and it must be defined as a key\n"
     ]
    }
   ],
   "source": [
    "try:    \n",
    "    mycursor.execute(\"ALTER TABLE SUNDAY.n1 ADD COLUMN C5 INT AUTO_INCREMENT PRIMARY KEY\")\n",
    "except Exception as e:\n",
    "    print(str(e)) #we can set only one auto column an dit must be defined as a key."
   ]
  },
  {
   "cell_type": "code",
   "execution_count": 24,
   "id": "ab000fc8",
   "metadata": {},
   "outputs": [],
   "source": [
    "mycursor=mydb.cursor()\n",
    "mycursor.execute(\"ALTER TABLE SUNDAY.N1 ADD COLUMN C4 INT AUTO_InCREMENT PRIMARY KEY\")"
   ]
  },
  {
   "cell_type": "markdown",
   "id": "d43fc6bf",
   "metadata": {},
   "source": [
    "# INSERT DATA-"
   ]
  },
  {
   "cell_type": "code",
   "execution_count": 1,
   "id": "fc1579e2",
   "metadata": {},
   "outputs": [],
   "source": [
    "import mysql.connector as connection\n",
    "mydb=connection.connect(host=\"localhost\",user=\"root\",passwd=\"mysql\",database=\"sunday\",use_pure=True)\n",
    "mycursor=mydb.cursor()"
   ]
  },
  {
   "cell_type": "code",
   "execution_count": 28,
   "id": "21fe1f73",
   "metadata": {},
   "outputs": [],
   "source": [
    "mycursor=mydb.cursor()"
   ]
  },
  {
   "cell_type": "code",
   "execution_count": 14,
   "id": "5ebcfc22",
   "metadata": {},
   "outputs": [],
   "source": [
    "sql=\"INSERT INTO SUNDAY.N1(C1,C2,C3,C4) VALUES(%s,%s,%s,%s)\" #%s used to encrypt the data to be entered which can be passed in tuple."
   ]
  },
  {
   "cell_type": "code",
   "execution_count": 15,
   "id": "07871506",
   "metadata": {},
   "outputs": [],
   "source": [
    "val=(2,\"MANISHA\",\"1996-04-14\",\"58\") #AUTO INCREMENT PRIMARY KEY ENSURES NO DUPLICATE ENTIRES ARE FIRED FOR THAT PARTICULAR COLUMN"
   ]
  },
  {
   "cell_type": "code",
   "execution_count": 16,
   "id": "31f56c89",
   "metadata": {},
   "outputs": [],
   "source": [
    "mycursor.execute(sql,val)\n",
    "mydb.commit()"
   ]
  },
  {
   "cell_type": "code",
   "execution_count": 49,
   "id": "4b12215c",
   "metadata": {},
   "outputs": [],
   "source": [
    "mydb.commit()"
   ]
  },
  {
   "cell_type": "code",
   "execution_count": 20,
   "id": "6f496968",
   "metadata": {},
   "outputs": [],
   "source": [
    "mycursor.execute(\"insert into sunday.m1 (C1,C2,C3,C4) values (1,'SART','1995-05-21',589)\") #another way of inserting data."
   ]
  },
  {
   "cell_type": "code",
   "execution_count": 21,
   "id": "7f25755a",
   "metadata": {},
   "outputs": [],
   "source": [
    "mydb.commit() #It is required to make the changes, otherwise no changes are made to the table."
   ]
  },
  {
   "cell_type": "code",
   "execution_count": 57,
   "id": "66c600f5",
   "metadata": {},
   "outputs": [],
   "source": [
    "#INSERTING MULTIPLE QUERIES-"
   ]
  },
  {
   "cell_type": "code",
   "execution_count": 36,
   "id": "cfebe850",
   "metadata": {},
   "outputs": [],
   "source": [
    "query=\"INSERT INTO SUNDAY.N1(C1,C2,C3,C4) VALUES(%s,%s,%s,%s)\""
   ]
  },
  {
   "cell_type": "code",
   "execution_count": 39,
   "id": "2da20fdd",
   "metadata": {},
   "outputs": [],
   "source": [
    "lst=[(\"1\",\"STWR\",\"1993-05-12\",\"6374\"),(\"23\",\"SHRHLS\",\"1990-02-12\",\"726\")] "
   ]
  },
  {
   "cell_type": "code",
   "execution_count": 40,
   "id": "03305a93",
   "metadata": {},
   "outputs": [],
   "source": [
    "mycursor.executemany(query,lst)"
   ]
  },
  {
   "cell_type": "code",
   "execution_count": 41,
   "id": "3d309a67",
   "metadata": {},
   "outputs": [],
   "source": [
    "mydb.commit()"
   ]
  },
  {
   "cell_type": "code",
   "execution_count": 42,
   "id": "1347f935",
   "metadata": {},
   "outputs": [
    {
     "data": {
      "text/plain": [
       "726"
      ]
     },
     "execution_count": 42,
     "metadata": {},
     "output_type": "execute_result"
    }
   ],
   "source": [
    "mycursor.lastrowid "
   ]
  },
  {
   "cell_type": "code",
   "execution_count": 43,
   "id": "771a8bf3",
   "metadata": {},
   "outputs": [],
   "source": [
    "mycursor=mydb.cursor()\n",
    "query=\"INSERT INTO SUNDAY.N1 (C1,C2,C3,C4) VALUES(%s,%s,%s,%s)\"\n",
    "lst=[(\"123\",\"MANISHGA\",\"1992-04-12\",\"1234\"),(\"1232\",\"SARTHAK\",\"1992-03-12\",\"485858\")]\n",
    "mycursor.executemany(query,lst)\n",
    "mydb.commit()"
   ]
  },
  {
   "cell_type": "markdown",
   "id": "da6f3d7b",
   "metadata": {},
   "source": [
    "# SELECT  FROM-"
   ]
  },
  {
   "cell_type": "code",
   "execution_count": 56,
   "id": "f7e54da0",
   "metadata": {},
   "outputs": [
    {
     "data": {
      "text/plain": [
       "[(1, 'MANISHA', datetime.date(1996, 4, 14), 55),\n",
       " (2, 'MANISHA', datetime.date(1996, 4, 14), 58),\n",
       " (1, 'STWR', datetime.date(1993, 5, 12), 637),\n",
       " (23, 'SHRHLS', datetime.date(1990, 2, 12), 726),\n",
       " (23, 'SHRHLS', datetime.date(1990, 2, 12), 736),\n",
       " (123, 'MANISHGA', datetime.date(1992, 4, 12), 1234),\n",
       " (1, 'STWR', datetime.date(1993, 5, 12), 6374),\n",
       " (1232, 'SARTHAK', datetime.date(1992, 3, 12), 485858)]"
      ]
     },
     "execution_count": 56,
     "metadata": {},
     "output_type": "execute_result"
    }
   ],
   "source": [
    "mydb=connection.connect(host=\"localhost\",user=\"root\",database=\"sunday\",passwd=\"mysql\",use_pure=True)\n",
    "cursor=mydb.cursor()\n",
    "cursor.execute(\"select * from SUNDAY.N1\")\n",
    "cursor.fetchall()"
   ]
  },
  {
   "cell_type": "code",
   "execution_count": 50,
   "id": "02acaf3a",
   "metadata": {},
   "outputs": [],
   "source": [
    "mycursor.execute(\"select * from SUNDAY.N1\")"
   ]
  },
  {
   "cell_type": "code",
   "execution_count": 51,
   "id": "0c46dabb",
   "metadata": {},
   "outputs": [
    {
     "data": {
      "text/plain": [
       "(1, 'MANISHA', datetime.date(1996, 4, 14), 55)"
      ]
     },
     "execution_count": 51,
     "metadata": {},
     "output_type": "execute_result"
    }
   ],
   "source": [
    "mycursor.fetchall()"
   ]
  },
  {
   "cell_type": "code",
   "execution_count": 73,
   "id": "352786e1",
   "metadata": {},
   "outputs": [],
   "source": [
    "a=pd.read_sql(\"select * from SUNDAY.M1\",mydb) #arranging tabular data in neat format."
   ]
  },
  {
   "cell_type": "code",
   "execution_count": 74,
   "id": "49ff432e",
   "metadata": {},
   "outputs": [],
   "source": [
    "a.to_csv(\"DATAS.csv\")"
   ]
  },
  {
   "cell_type": "code",
   "execution_count": 59,
   "id": "8bf30bd6",
   "metadata": {},
   "outputs": [],
   "source": [
    "import pandas as pd\n",
    "pd.read_csv(\"DATAS.csv\") #reading data after manipulating it in csv file.\n",
    "import csv"
   ]
  },
  {
   "cell_type": "code",
   "execution_count": 60,
   "id": "baafaea0",
   "metadata": {},
   "outputs": [
    {
     "name": "stdout",
     "output_type": "stream",
     "text": [
      "['0', '1', 'MANISHA', '1996-04-14', '4298']\n",
      "['1', '1', 'MANISHA', '1996-04-14', '4546']\n",
      "['2', '1', 'SARTHAK', '1996-04-14', '45656']\n"
     ]
    },
    {
     "ename": "IntegrityError",
     "evalue": "1062 (23000): Duplicate entry '45656' for key 'm1.PRIMARY'",
     "output_type": "error",
     "traceback": [
      "\u001b[1;31m---------------------------------------------------------------------------\u001b[0m",
      "\u001b[1;31mIntegrityError\u001b[0m                            Traceback (most recent call last)",
      "\u001b[1;32mC:\\Users\\SARTHA~1\\AppData\\Local\\Temp/ipykernel_8392/3145859500.py\u001b[0m in \u001b[0;36m<module>\u001b[1;34m\u001b[0m\n\u001b[0;32m      9\u001b[0m     \u001b[0mmycursor\u001b[0m\u001b[1;33m=\u001b[0m\u001b[0mmydb\u001b[0m\u001b[1;33m.\u001b[0m\u001b[0mcursor\u001b[0m\u001b[1;33m(\u001b[0m\u001b[1;33m)\u001b[0m\u001b[1;33m\u001b[0m\u001b[1;33m\u001b[0m\u001b[0m\n\u001b[0;32m     10\u001b[0m     \u001b[0mquery\u001b[0m\u001b[1;33m=\u001b[0m\u001b[1;34m\"insert into sunday.m1(C1,C2,C3,C4)values(%s,%s,%s,%s)\"\u001b[0m\u001b[1;33m\u001b[0m\u001b[1;33m\u001b[0m\u001b[0m\n\u001b[1;32m---> 11\u001b[1;33m     \u001b[0mmycursor\u001b[0m\u001b[1;33m.\u001b[0m\u001b[0mexecute\u001b[0m\u001b[1;33m(\u001b[0m\u001b[0mquery\u001b[0m\u001b[1;33m,\u001b[0m\u001b[0mtuple\u001b[0m\u001b[1;33m(\u001b[0m\u001b[0ml\u001b[0m\u001b[1;33m)\u001b[0m\u001b[1;33m)\u001b[0m\u001b[1;33m\u001b[0m\u001b[1;33m\u001b[0m\u001b[0m\n\u001b[0m\u001b[0;32m     12\u001b[0m     \u001b[0mmydb\u001b[0m\u001b[1;33m.\u001b[0m\u001b[0mcommit\u001b[0m\u001b[1;33m(\u001b[0m\u001b[1;33m)\u001b[0m\u001b[1;33m\u001b[0m\u001b[1;33m\u001b[0m\u001b[0m\n\u001b[0;32m     13\u001b[0m \u001b[0mprint\u001b[0m\u001b[1;33m(\u001b[0m\u001b[1;34m\"ALL VALUES DUMPED BACK TO TABLE\"\u001b[0m\u001b[1;33m)\u001b[0m \u001b[1;31m#all bulk data fro csv file getting imported to sql.\u001b[0m\u001b[1;33m\u001b[0m\u001b[1;33m\u001b[0m\u001b[0m\n",
      "\u001b[1;32mC:\\New folder\\New folder\\lib\\site-packages\\mysql\\connector\\cursor.py\u001b[0m in \u001b[0;36mexecute\u001b[1;34m(self, operation, params, multi)\u001b[0m\n\u001b[0;32m    570\u001b[0m \u001b[1;33m\u001b[0m\u001b[0m\n\u001b[0;32m    571\u001b[0m         \u001b[1;32mtry\u001b[0m\u001b[1;33m:\u001b[0m\u001b[1;33m\u001b[0m\u001b[1;33m\u001b[0m\u001b[0m\n\u001b[1;32m--> 572\u001b[1;33m             \u001b[0mself\u001b[0m\u001b[1;33m.\u001b[0m\u001b[0m_handle_result\u001b[0m\u001b[1;33m(\u001b[0m\u001b[0mself\u001b[0m\u001b[1;33m.\u001b[0m\u001b[0m_connection\u001b[0m\u001b[1;33m.\u001b[0m\u001b[0mcmd_query\u001b[0m\u001b[1;33m(\u001b[0m\u001b[0mstmt\u001b[0m\u001b[1;33m)\u001b[0m\u001b[1;33m)\u001b[0m\u001b[1;33m\u001b[0m\u001b[1;33m\u001b[0m\u001b[0m\n\u001b[0m\u001b[0;32m    573\u001b[0m         \u001b[1;32mexcept\u001b[0m \u001b[0merrors\u001b[0m\u001b[1;33m.\u001b[0m\u001b[0mInterfaceError\u001b[0m\u001b[1;33m:\u001b[0m\u001b[1;33m\u001b[0m\u001b[1;33m\u001b[0m\u001b[0m\n\u001b[0;32m    574\u001b[0m             \u001b[1;32mif\u001b[0m \u001b[0mself\u001b[0m\u001b[1;33m.\u001b[0m\u001b[0m_connection\u001b[0m\u001b[1;33m.\u001b[0m\u001b[0m_have_next_result\u001b[0m\u001b[1;33m:\u001b[0m  \u001b[1;31m# pylint: disable=W0212\u001b[0m\u001b[1;33m\u001b[0m\u001b[1;33m\u001b[0m\u001b[0m\n",
      "\u001b[1;32mC:\\New folder\\New folder\\lib\\site-packages\\mysql\\connector\\connection.py\u001b[0m in \u001b[0;36mcmd_query\u001b[1;34m(self, query, raw, buffered, raw_as_string)\u001b[0m\n\u001b[0;32m    918\u001b[0m         \u001b[0mquery\u001b[0m \u001b[1;33m=\u001b[0m \u001b[0mbytes\u001b[0m\u001b[1;33m(\u001b[0m\u001b[0mpacket\u001b[0m\u001b[1;33m)\u001b[0m\u001b[1;33m\u001b[0m\u001b[1;33m\u001b[0m\u001b[0m\n\u001b[0;32m    919\u001b[0m         \u001b[1;32mtry\u001b[0m\u001b[1;33m:\u001b[0m\u001b[1;33m\u001b[0m\u001b[1;33m\u001b[0m\u001b[0m\n\u001b[1;32m--> 920\u001b[1;33m             \u001b[0mresult\u001b[0m \u001b[1;33m=\u001b[0m \u001b[0mself\u001b[0m\u001b[1;33m.\u001b[0m\u001b[0m_handle_result\u001b[0m\u001b[1;33m(\u001b[0m\u001b[0mself\u001b[0m\u001b[1;33m.\u001b[0m\u001b[0m_send_cmd\u001b[0m\u001b[1;33m(\u001b[0m\u001b[0mServerCmd\u001b[0m\u001b[1;33m.\u001b[0m\u001b[0mQUERY\u001b[0m\u001b[1;33m,\u001b[0m \u001b[0mquery\u001b[0m\u001b[1;33m)\u001b[0m\u001b[1;33m)\u001b[0m\u001b[1;33m\u001b[0m\u001b[1;33m\u001b[0m\u001b[0m\n\u001b[0m\u001b[0;32m    921\u001b[0m         \u001b[1;32mexcept\u001b[0m \u001b[0merrors\u001b[0m\u001b[1;33m.\u001b[0m\u001b[0mProgrammingError\u001b[0m \u001b[1;32mas\u001b[0m \u001b[0merr\u001b[0m\u001b[1;33m:\u001b[0m\u001b[1;33m\u001b[0m\u001b[1;33m\u001b[0m\u001b[0m\n\u001b[0;32m    922\u001b[0m             \u001b[1;32mif\u001b[0m \u001b[0merr\u001b[0m\u001b[1;33m.\u001b[0m\u001b[0merrno\u001b[0m \u001b[1;33m==\u001b[0m \u001b[1;36m3948\u001b[0m \u001b[1;32mand\u001b[0m\u001b[0;31m \u001b[0m\u001b[0;31m\\\u001b[0m\u001b[1;33m\u001b[0m\u001b[1;33m\u001b[0m\u001b[0m\n",
      "\u001b[1;32mC:\\New folder\\New folder\\lib\\site-packages\\mysql\\connector\\connection.py\u001b[0m in \u001b[0;36m_handle_result\u001b[1;34m(self, packet)\u001b[0m\n\u001b[0;32m    728\u001b[0m             \u001b[1;32mreturn\u001b[0m \u001b[0mself\u001b[0m\u001b[1;33m.\u001b[0m\u001b[0m_handle_eof\u001b[0m\u001b[1;33m(\u001b[0m\u001b[0mpacket\u001b[0m\u001b[1;33m)\u001b[0m\u001b[1;33m\u001b[0m\u001b[1;33m\u001b[0m\u001b[0m\n\u001b[0;32m    729\u001b[0m         \u001b[1;32melif\u001b[0m \u001b[0mpacket\u001b[0m\u001b[1;33m[\u001b[0m\u001b[1;36m4\u001b[0m\u001b[1;33m]\u001b[0m \u001b[1;33m==\u001b[0m \u001b[1;36m255\u001b[0m\u001b[1;33m:\u001b[0m\u001b[1;33m\u001b[0m\u001b[1;33m\u001b[0m\u001b[0m\n\u001b[1;32m--> 730\u001b[1;33m             \u001b[1;32mraise\u001b[0m \u001b[0merrors\u001b[0m\u001b[1;33m.\u001b[0m\u001b[0mget_exception\u001b[0m\u001b[1;33m(\u001b[0m\u001b[0mpacket\u001b[0m\u001b[1;33m)\u001b[0m\u001b[1;33m\u001b[0m\u001b[1;33m\u001b[0m\u001b[0m\n\u001b[0m\u001b[0;32m    731\u001b[0m \u001b[1;33m\u001b[0m\u001b[0m\n\u001b[0;32m    732\u001b[0m         \u001b[1;31m# We have a text result set\u001b[0m\u001b[1;33m\u001b[0m\u001b[1;33m\u001b[0m\u001b[0m\n",
      "\u001b[1;31mIntegrityError\u001b[0m: 1062 (23000): Duplicate entry '45656' for key 'm1.PRIMARY'"
     ]
    }
   ],
   "source": [
    "f=open(\"DATAS.csv\",\"r\") #dumping data in bulk back to the sql table from csv file.\n",
    "next(f)\n",
    "dat=csv.reader(f,delimiter=\",\")\n",
    "for i in dat:\n",
    "    print(i)\n",
    "    l=[]\n",
    "    for j in i[1:len(i)]:\n",
    "        l.append(j)\n",
    "    mycursor=mydb.cursor()\n",
    "    query=\"insert into sunday.m1(C1,C2,C3,C4)values(%s,%s,%s,%s)\"\n",
    "    mycursor.execute(query,tuple(l))\n",
    "    mydb.commit()\n",
    "print(\"ALL VALUES DUMPED BACK TO TABLE\") #all bulk data fro csv file getting imported to sql."
   ]
  },
  {
   "cell_type": "code",
   "execution_count": 91,
   "id": "6d5bf6eb",
   "metadata": {},
   "outputs": [],
   "source": [
    "i[1:len(i)]\n",
    "l1=[]"
   ]
  },
  {
   "cell_type": "code",
   "execution_count": 92,
   "id": "05f70812",
   "metadata": {},
   "outputs": [],
   "source": [
    "for j in i[1:len(i)]:\n",
    "    l1.append(j)"
   ]
  },
  {
   "cell_type": "code",
   "execution_count": 96,
   "id": "a92fb980",
   "metadata": {},
   "outputs": [
    {
     "data": {
      "text/plain": [
       "(['0', '1', 'MANISHA', '1996-04-14', '42'],\n",
       " ['0', '1', 'MANISHA', '1996-04-14', '42'],\n",
       " ['0', '1', 'MANISHA', '1996-04-14', '42'],\n",
       " ['0', '1', 'MANISHA', '1996-04-14', '42'])"
      ]
     },
     "execution_count": 96,
     "metadata": {},
     "output_type": "execute_result"
    }
   ],
   "source": [
    "t"
   ]
  },
  {
   "cell_type": "code",
   "execution_count": 94,
   "id": "cc274ae2",
   "metadata": {},
   "outputs": [
    {
     "data": {
      "text/plain": [
       "('1', 'MANISHA', '1996-04-14', '42')"
      ]
     },
     "execution_count": 94,
     "metadata": {},
     "output_type": "execute_result"
    }
   ],
   "source": [
    "tuple(l1)"
   ]
  },
  {
   "cell_type": "code",
   "execution_count": 101,
   "id": "30dcd6d2",
   "metadata": {},
   "outputs": [],
   "source": [
    "#Projecting selected columns to be diplayed-"
   ]
  },
  {
   "cell_type": "code",
   "execution_count": 102,
   "id": "e8e6d9e8",
   "metadata": {},
   "outputs": [
    {
     "data": {
      "text/plain": [
       "[(1, datetime.date(1996, 4, 14), 42),\n",
       " (1, datetime.date(1996, 4, 14), 43),\n",
       " (1, datetime.date(1996, 4, 14), 44),\n",
       " (1, datetime.date(1996, 4, 14), 45),\n",
       " (1, datetime.date(1996, 4, 14), 55),\n",
       " (1, datetime.date(1995, 5, 21), 57),\n",
       " (1, datetime.date(1995, 5, 21), 59),\n",
       " (1, datetime.date(1993, 5, 12), 63),\n",
       " (1, datetime.date(1993, 5, 12), 67),\n",
       " (23, datetime.date(1990, 2, 12), 70),\n",
       " (23, datetime.date(1990, 2, 12), 73),\n",
       " (1, datetime.date(1996, 4, 14), 454),\n",
       " (1, datetime.date(1996, 4, 14), 456),\n",
       " (1, datetime.date(1996, 4, 14), 557),\n",
       " (1, datetime.date(1995, 5, 21), 576),\n",
       " (1, datetime.date(1995, 5, 21), 598),\n",
       " (1, datetime.date(1993, 5, 12), 636),\n",
       " (1, datetime.date(1993, 5, 12), 675),\n",
       " (23, datetime.date(1990, 2, 12), 701),\n",
       " (23, datetime.date(1990, 2, 12), 732),\n",
       " (1, datetime.date(1996, 4, 14), 4298),\n",
       " (1, datetime.date(1996, 4, 14), 4546),\n",
       " (1, datetime.date(1996, 4, 14), 45656),\n",
       " (23, datetime.date(1990, 2, 12), 73254),\n",
       " (1, datetime.date(1995, 5, 21), 576445),\n",
       " (1, datetime.date(1996, 4, 14), 5573543),\n",
       " (1, datetime.date(1995, 5, 21), 5983344),\n",
       " (1, datetime.date(1993, 5, 12), 6754545),\n",
       " (23, datetime.date(1990, 2, 12), 7014444),\n",
       " (1, datetime.date(1993, 5, 12), 636345544)]"
      ]
     },
     "execution_count": 102,
     "metadata": {},
     "output_type": "execute_result"
    }
   ],
   "source": [
    "mycursor=mydb.cursor()\n",
    "mycursor.execute(\"select C1,C3,C4 from SUNDAY.m1\")\n",
    "mycursor.fetchall()"
   ]
  },
  {
   "cell_type": "markdown",
   "id": "956463df",
   "metadata": {},
   "source": [
    "# WHERE IN SQL-"
   ]
  },
  {
   "cell_type": "code",
   "execution_count": 7,
   "id": "32b0a87f",
   "metadata": {},
   "outputs": [],
   "source": [
    "import mysql.connector as connection\n",
    "mydb=connection.connect(host=\"localhost\",user='root',passwd=\"mysql\",database=\"SUNDAY\",use_pure=True)\n",
    "mycursor=mydb.cursor()"
   ]
  },
  {
   "cell_type": "code",
   "execution_count": 8,
   "id": "eeb52e25",
   "metadata": {},
   "outputs": [],
   "source": [
    "mycursor.execute(\"select * from sunday.m1 where C2='SARTHAK'\")"
   ]
  },
  {
   "cell_type": "code",
   "execution_count": 9,
   "id": "816b254f",
   "metadata": {},
   "outputs": [
    {
     "data": {
      "text/plain": [
       "[(1, 'SARTHAK', datetime.date(1996, 4, 14), 45),\n",
       " (1, 'SARTHAK', datetime.date(1996, 4, 14), 456),\n",
       " (1, 'SARTHAK', datetime.date(1996, 4, 14), 45656)]"
      ]
     },
     "execution_count": 9,
     "metadata": {},
     "output_type": "execute_result"
    }
   ],
   "source": [
    "mycursor.fetchall()"
   ]
  },
  {
   "cell_type": "code",
   "execution_count": 10,
   "id": "099e0150",
   "metadata": {},
   "outputs": [],
   "source": [
    "mycursor.execute(\"select * from sunday.m1 where C2 in ('SARTHAK','MANISHA')\")"
   ]
  },
  {
   "cell_type": "code",
   "execution_count": 11,
   "id": "a5ee0680",
   "metadata": {},
   "outputs": [
    {
     "data": {
      "text/plain": [
       "[(1, 'MANISHA', datetime.date(1996, 4, 14), 42),\n",
       " (1, 'MANISHA', datetime.date(1996, 4, 14), 43),\n",
       " (1, 'MANISHA', datetime.date(1996, 4, 14), 44),\n",
       " (1, 'SARTHAK', datetime.date(1996, 4, 14), 45),\n",
       " (1, 'MANISHA', datetime.date(1996, 4, 14), 55),\n",
       " (1, 'MANISHA', datetime.date(1996, 4, 14), 454),\n",
       " (1, 'SARTHAK', datetime.date(1996, 4, 14), 456),\n",
       " (1, 'MANISHA', datetime.date(1996, 4, 14), 557),\n",
       " (1, 'MANISHA', datetime.date(1996, 4, 14), 4298),\n",
       " (1, 'MANISHA', datetime.date(1996, 4, 14), 4546),\n",
       " (1, 'SARTHAK', datetime.date(1996, 4, 14), 45656),\n",
       " (1, 'MANISHA', datetime.date(1996, 4, 14), 5573543)]"
      ]
     },
     "execution_count": 11,
     "metadata": {},
     "output_type": "execute_result"
    }
   ],
   "source": [
    "mycursor.fetchall()"
   ]
  },
  {
   "cell_type": "code",
   "execution_count": 12,
   "id": "a1623014",
   "metadata": {},
   "outputs": [],
   "source": [
    "mycursor.execute(\"select * from sunday.m1 where C2 in ('SARTHAK','MANISHA') or c3='1996-04-14'\")"
   ]
  },
  {
   "cell_type": "code",
   "execution_count": 13,
   "id": "b3b4e91a",
   "metadata": {},
   "outputs": [
    {
     "data": {
      "text/plain": [
       "[(1, 'MANISHA', datetime.date(1996, 4, 14), 42),\n",
       " (1, 'MANISHA', datetime.date(1996, 4, 14), 43),\n",
       " (1, 'MANISHA', datetime.date(1996, 4, 14), 44),\n",
       " (1, 'SARTHAK', datetime.date(1996, 4, 14), 45),\n",
       " (1, 'MANISHA', datetime.date(1996, 4, 14), 55),\n",
       " (1, 'MANISHA', datetime.date(1996, 4, 14), 454),\n",
       " (1, 'SARTHAK', datetime.date(1996, 4, 14), 456),\n",
       " (1, 'MANISHA', datetime.date(1996, 4, 14), 557),\n",
       " (1, 'MANISHA', datetime.date(1996, 4, 14), 4298),\n",
       " (1, 'MANISHA', datetime.date(1996, 4, 14), 4546),\n",
       " (1, 'SARTHAK', datetime.date(1996, 4, 14), 45656),\n",
       " (1, 'MANISHA', datetime.date(1996, 4, 14), 5573543)]"
      ]
     },
     "execution_count": 13,
     "metadata": {},
     "output_type": "execute_result"
    }
   ],
   "source": [
    "mycursor.fetchall()"
   ]
  },
  {
   "cell_type": "markdown",
   "id": "d1bb6641",
   "metadata": {},
   "source": [
    "Wildcard Characters\n",
    "You can also select the records that starts, includes, or ends with a given letter or phrase.\n",
    "\n",
    "Use the %  to represent wildcard characters:"
   ]
  },
  {
   "cell_type": "code",
   "execution_count": 62,
   "id": "92e4e6f8",
   "metadata": {},
   "outputs": [
    {
     "data": {
      "text/plain": [
       "[(23, 'SHRHLS', datetime.date(1990, 2, 12), 70),\n",
       " (23, 'SHRHLS', datetime.date(1990, 2, 12), 73),\n",
       " (23, 'SHRHLS', datetime.date(1990, 2, 12), 701),\n",
       " (23, 'SHRHLS', datetime.date(1990, 2, 12), 732),\n",
       " (1, 'MANISHA', datetime.date(1996, 4, 14), 4298),\n",
       " (1, 'MANISHA', datetime.date(1996, 4, 14), 4546),\n",
       " (23, 'SHRHLS', datetime.date(1990, 2, 12), 73254),\n",
       " (23, 'SHRHLS', datetime.date(1990, 2, 12), 7014444)]"
      ]
     },
     "execution_count": 62,
     "metadata": {},
     "output_type": "execute_result"
    }
   ],
   "source": [
    "mycursor=mydb.cursor()\n",
    "mycursor.execute(\"select * from sunday.m1 where C2 like '%SH%'\") # can be used for regex characters.\n",
    "mycursor.fetchall()  #'%sh%' means to check whether %sh% exists in string."
   ]
  },
  {
   "cell_type": "code",
   "execution_count": 66,
   "id": "745835ef",
   "metadata": {},
   "outputs": [
    {
     "data": {
      "text/plain": [
       "[(1232, 'SARTHAK', datetime.date(1992, 3, 12), 485858)]"
      ]
     },
     "execution_count": 66,
     "metadata": {},
     "output_type": "execute_result"
    }
   ],
   "source": [
    "cursor=mydb.cursor()\n",
    "cursor.execute(\"select * from sunday.n1 where C2 like '%SA%'\")\n",
    "cursor.fetchall()"
   ]
  },
  {
   "cell_type": "markdown",
   "id": "435ff265",
   "metadata": {},
   "source": [
    "Prevent SQL Injection\n",
    "When query values are provided by the user, you should encrypt the values with the help of a placeholder and passing values in immutable tuples.\n",
    "\n",
    "This is to prevent SQL injections, which is a common web hacking technique to destroy or misuse your database."
   ]
  },
  {
   "cell_type": "code",
   "execution_count": 74,
   "id": "3fc720e7",
   "metadata": {},
   "outputs": [
    {
     "ename": "InternalError",
     "evalue": "Unread result found",
     "output_type": "error",
     "traceback": [
      "\u001b[1;31m---------------------------------------------------------------------------\u001b[0m",
      "\u001b[1;31mInternalError\u001b[0m                             Traceback (most recent call last)",
      "\u001b[1;32mC:\\Users\\SARTHA~1\\AppData\\Local\\Temp/ipykernel_8392/1068711142.py\u001b[0m in \u001b[0;36m<module>\u001b[1;34m\u001b[0m\n\u001b[1;32m----> 1\u001b[1;33m \u001b[0mmycursor\u001b[0m\u001b[1;33m=\u001b[0m\u001b[0mmydb\u001b[0m\u001b[1;33m.\u001b[0m\u001b[0mcursor\u001b[0m\u001b[1;33m(\u001b[0m\u001b[1;33m)\u001b[0m\u001b[1;33m\u001b[0m\u001b[1;33m\u001b[0m\u001b[0m\n\u001b[0m\u001b[0;32m      2\u001b[0m \u001b[0mquery\u001b[0m\u001b[1;33m=\u001b[0m\u001b[1;34m\"select * from sunday.m1 where C2=%s\"\u001b[0m\u001b[1;33m\u001b[0m\u001b[1;33m\u001b[0m\u001b[0m\n\u001b[0;32m      3\u001b[0m \u001b[0mt\u001b[0m\u001b[1;33m=\u001b[0m\u001b[1;33m(\u001b[0m\u001b[1;34m\"MANISHA\"\u001b[0m\u001b[1;33m,\u001b[0m\u001b[1;33m)\u001b[0m \u001b[1;31m#passing values in tuples so that they cant be manipulated externally.\u001b[0m\u001b[1;33m\u001b[0m\u001b[1;33m\u001b[0m\u001b[0m\n\u001b[0;32m      4\u001b[0m \u001b[0mmycursor\u001b[0m\u001b[1;33m.\u001b[0m\u001b[0mexecute\u001b[0m\u001b[1;33m(\u001b[0m\u001b[0mquery\u001b[0m\u001b[1;33m,\u001b[0m\u001b[0mt\u001b[0m\u001b[1;33m)\u001b[0m\u001b[1;33m\u001b[0m\u001b[1;33m\u001b[0m\u001b[0m\n",
      "\u001b[1;32mC:\\New folder\\New folder\\lib\\site-packages\\mysql\\connector\\connection.py\u001b[0m in \u001b[0;36mcursor\u001b[1;34m(self, buffered, raw, prepared, cursor_class, dictionary, named_tuple)\u001b[0m\n\u001b[0;32m   1272\u001b[0m         \u001b[0mReturns\u001b[0m \u001b[0ma\u001b[0m \u001b[0mcursor\u001b[0m\u001b[1;33m-\u001b[0m\u001b[0mobject\u001b[0m\u001b[1;33m\u001b[0m\u001b[1;33m\u001b[0m\u001b[0m\n\u001b[0;32m   1273\u001b[0m         \"\"\"\n\u001b[1;32m-> 1274\u001b[1;33m         \u001b[0mself\u001b[0m\u001b[1;33m.\u001b[0m\u001b[0mhandle_unread_result\u001b[0m\u001b[1;33m(\u001b[0m\u001b[1;33m)\u001b[0m\u001b[1;33m\u001b[0m\u001b[1;33m\u001b[0m\u001b[0m\n\u001b[0m\u001b[0;32m   1275\u001b[0m \u001b[1;33m\u001b[0m\u001b[0m\n\u001b[0;32m   1276\u001b[0m         \u001b[1;32mif\u001b[0m \u001b[1;32mnot\u001b[0m \u001b[0mself\u001b[0m\u001b[1;33m.\u001b[0m\u001b[0mis_connected\u001b[0m\u001b[1;33m(\u001b[0m\u001b[1;33m)\u001b[0m\u001b[1;33m:\u001b[0m\u001b[1;33m\u001b[0m\u001b[1;33m\u001b[0m\u001b[0m\n",
      "\u001b[1;32mC:\\New folder\\New folder\\lib\\site-packages\\mysql\\connector\\connection.py\u001b[0m in \u001b[0;36mhandle_unread_result\u001b[1;34m(self)\u001b[0m\n\u001b[0;32m   1546\u001b[0m             \u001b[0mself\u001b[0m\u001b[1;33m.\u001b[0m\u001b[0mconsume_results\u001b[0m\u001b[1;33m(\u001b[0m\u001b[1;33m)\u001b[0m\u001b[1;33m\u001b[0m\u001b[1;33m\u001b[0m\u001b[0m\n\u001b[0;32m   1547\u001b[0m         \u001b[1;32melif\u001b[0m \u001b[0mself\u001b[0m\u001b[1;33m.\u001b[0m\u001b[0munread_result\u001b[0m\u001b[1;33m:\u001b[0m\u001b[1;33m\u001b[0m\u001b[1;33m\u001b[0m\u001b[0m\n\u001b[1;32m-> 1548\u001b[1;33m             \u001b[1;32mraise\u001b[0m \u001b[0merrors\u001b[0m\u001b[1;33m.\u001b[0m\u001b[0mInternalError\u001b[0m\u001b[1;33m(\u001b[0m\u001b[1;34m\"Unread result found\"\u001b[0m\u001b[1;33m)\u001b[0m\u001b[1;33m\u001b[0m\u001b[1;33m\u001b[0m\u001b[0m\n\u001b[0m",
      "\u001b[1;31mInternalError\u001b[0m: Unread result found"
     ]
    }
   ],
   "source": [
    "mycursor=mydb.cursor()\n",
    "query=\"select * from sunday.m1 where C2=%s\"\n",
    "t=(\"MANISHA\",) #passing values in tuples so that they cant be manipulated externally.\n",
    "mycursor.execute(query,t)"
   ]
  },
  {
   "cell_type": "code",
   "execution_count": 82,
   "id": "6c83d93a",
   "metadata": {},
   "outputs": [
    {
     "data": {
      "text/plain": [
       "[(1, 'MANISHA', datetime.date(1996, 4, 14), 55),\n",
       " (2, 'MANISHA', datetime.date(1996, 4, 14), 58)]"
      ]
     },
     "execution_count": 82,
     "metadata": {},
     "output_type": "execute_result"
    }
   ],
   "source": [
    "mydb=connection.connect(host=\"localhost\",user=\"root\",database=\"sunday\",passwd=\"mysql\",use_pure=True)\n",
    "cursor=mydb.cursor()\n",
    "query= \"select * from sunday.n1 where C2=%s\" #encrypting data in queries where encrypted data is passed in tuples\n",
    "t=(\"MANISHA\",)\n",
    "cursor.execute(query,t)\n",
    "cursor.fetchall()"
   ]
  },
  {
   "cell_type": "markdown",
   "id": "ba7ed8ef",
   "metadata": {},
   "source": [
    "# ORDER BY-"
   ]
  },
  {
   "cell_type": "markdown",
   "id": "c6d31e8e",
   "metadata": {},
   "source": [
    "Use the ORDER BY statement to sort the result in ascending or descending order.\n",
    "\n",
    "The ORDER BY keyword sorts the result ascending by default. To sort the result in descending order, use the DESC keyword."
   ]
  },
  {
   "cell_type": "code",
   "execution_count": 92,
   "id": "d5598a1e",
   "metadata": {},
   "outputs": [],
   "source": [
    "mydb=connection.connect(host=\"localhost\",user=\"root\",passwd=\"mysql\",database=\"sunday\",use_pure=True)\n",
    "mycursor=mydb.cursor()"
   ]
  },
  {
   "cell_type": "code",
   "execution_count": 93,
   "id": "2f344644",
   "metadata": {},
   "outputs": [],
   "source": [
    "mycursor.execute(\"select C1,C2 from sunday.n1 order by C1\") #default order by ascending"
   ]
  },
  {
   "cell_type": "code",
   "execution_count": 94,
   "id": "e07d7967",
   "metadata": {},
   "outputs": [
    {
     "data": {
      "text/plain": [
       "[(1, 'MANISHA'),\n",
       " (1, 'STWR'),\n",
       " (1, 'STWR'),\n",
       " (2, 'MANISHA'),\n",
       " (23, 'SHRHLS'),\n",
       " (23, 'SHRHLS'),\n",
       " (123, 'MANISHGA'),\n",
       " (1232, 'SARTHAK')]"
      ]
     },
     "execution_count": 94,
     "metadata": {},
     "output_type": "execute_result"
    }
   ],
   "source": [
    "mycursor.fetchall()"
   ]
  },
  {
   "cell_type": "code",
   "execution_count": 35,
   "id": "5eb3c071",
   "metadata": {},
   "outputs": [],
   "source": [
    "mycursor.execute(\"select * from sunday.m1 order by c1\")  #fetches queries by sorting it in ascending order by defualt."
   ]
  },
  {
   "cell_type": "code",
   "execution_count": 36,
   "id": "4f20ce44",
   "metadata": {},
   "outputs": [
    {
     "data": {
      "text/plain": [
       "[(1, 'MANISHA', datetime.date(1996, 4, 14), 42),\n",
       " (1, 'MANISHA', datetime.date(1996, 4, 14), 43),\n",
       " (1, 'MANISHA', datetime.date(1996, 4, 14), 44),\n",
       " (1, 'SARTHAK', datetime.date(1996, 4, 14), 45),\n",
       " (1, 'MANISHA', datetime.date(1996, 4, 14), 55),\n",
       " (1, 'SART', datetime.date(1995, 5, 21), 57),\n",
       " (1, 'SART', datetime.date(1995, 5, 21), 59),\n",
       " (1, 'STWR', datetime.date(1993, 5, 12), 63),\n",
       " (1, 'STWR', datetime.date(1993, 5, 12), 67),\n",
       " (1, 'MANISHA', datetime.date(1996, 4, 14), 454),\n",
       " (1, 'SARTHAK', datetime.date(1996, 4, 14), 456),\n",
       " (1, 'MANISHA', datetime.date(1996, 4, 14), 557),\n",
       " (1, 'SART', datetime.date(1995, 5, 21), 576),\n",
       " (1, 'SART', datetime.date(1995, 5, 21), 598),\n",
       " (1, 'STWR', datetime.date(1993, 5, 12), 636),\n",
       " (1, 'STWR', datetime.date(1993, 5, 12), 675),\n",
       " (1, 'MANISHA', datetime.date(1996, 4, 14), 4298),\n",
       " (1, 'MANISHA', datetime.date(1996, 4, 14), 4546),\n",
       " (1, 'SARTHAK', datetime.date(1996, 4, 14), 45656),\n",
       " (1, 'SART', datetime.date(1995, 5, 21), 576445),\n",
       " (1, 'MANISHA', datetime.date(1996, 4, 14), 5573543),\n",
       " (1, 'SART', datetime.date(1995, 5, 21), 5983344),\n",
       " (1, 'STWR', datetime.date(1993, 5, 12), 6754545),\n",
       " (1, 'STWR', datetime.date(1993, 5, 12), 636345544),\n",
       " (23, 'SHRHLS', datetime.date(1990, 2, 12), 70),\n",
       " (23, 'SHRHLS', datetime.date(1990, 2, 12), 73),\n",
       " (23, 'SHRHLS', datetime.date(1990, 2, 12), 701),\n",
       " (23, 'SHRHLS', datetime.date(1990, 2, 12), 732),\n",
       " (23, 'SHRHLS', datetime.date(1990, 2, 12), 73254),\n",
       " (23, 'SHRHLS', datetime.date(1990, 2, 12), 7014444)]"
      ]
     },
     "execution_count": 36,
     "metadata": {},
     "output_type": "execute_result"
    }
   ],
   "source": [
    "mycursor.fetchall()"
   ]
  },
  {
   "cell_type": "code",
   "execution_count": 37,
   "id": "1249f1f9",
   "metadata": {},
   "outputs": [],
   "source": [
    "#fetching queries by sorting in descending order-"
   ]
  },
  {
   "cell_type": "code",
   "execution_count": 95,
   "id": "82230c56",
   "metadata": {},
   "outputs": [
    {
     "data": {
      "text/plain": [
       "[(1232, 'SARTHAK', datetime.date(1992, 3, 12), 485858),\n",
       " (123, 'MANISHGA', datetime.date(1992, 4, 12), 1234),\n",
       " (23, 'SHRHLS', datetime.date(1990, 2, 12), 726),\n",
       " (23, 'SHRHLS', datetime.date(1990, 2, 12), 736),\n",
       " (2, 'MANISHA', datetime.date(1996, 4, 14), 58),\n",
       " (1, 'MANISHA', datetime.date(1996, 4, 14), 55),\n",
       " (1, 'STWR', datetime.date(1993, 5, 12), 637),\n",
       " (1, 'STWR', datetime.date(1993, 5, 12), 6374)]"
      ]
     },
     "execution_count": 95,
     "metadata": {},
     "output_type": "execute_result"
    }
   ],
   "source": [
    "mycursor=mydb.cursor()\n",
    "mycursor.execute(\"select * from sunday.n1 order by C1 desc\")\n",
    "mycursor.fetchall()"
   ]
  },
  {
   "cell_type": "markdown",
   "id": "e963deb3",
   "metadata": {},
   "source": [
    "# DELETE FROM-"
   ]
  },
  {
   "cell_type": "code",
   "execution_count": 99,
   "id": "6f703287",
   "metadata": {},
   "outputs": [],
   "source": [
    "mycursor=mydb.cursor()\n",
    "q=\"delete from SUNDAY.N1 where c2=%s\"\n",
    "t=('MANISHA',)\n",
    "mycursor.execute(q,t)"
   ]
  },
  {
   "cell_type": "code",
   "execution_count": 100,
   "id": "253b699e",
   "metadata": {},
   "outputs": [],
   "source": [
    "mycursor=mydb.cursor()\n",
    "query='delete from sunday.n1 where C2=%s'\n",
    "t=(\"MANISHA\",)\n",
    "mycursor.execute(query,t)\n",
    "mydb.commit()"
   ]
  },
  {
   "cell_type": "code",
   "execution_count": 42,
   "id": "ce8723c4",
   "metadata": {},
   "outputs": [],
   "source": [
    "mycursor=mydb.cursor()\n",
    "mycursor.execute(\"select * from sunday.m1\")"
   ]
  },
  {
   "cell_type": "code",
   "execution_count": 43,
   "id": "f17248d0",
   "metadata": {},
   "outputs": [
    {
     "data": {
      "text/plain": [
       "[(1, 'SARTHAK', datetime.date(1996, 4, 14), 45),\n",
       " (1, 'SART', datetime.date(1995, 5, 21), 57),\n",
       " (1, 'SART', datetime.date(1995, 5, 21), 59),\n",
       " (1, 'STWR', datetime.date(1993, 5, 12), 63),\n",
       " (1, 'STWR', datetime.date(1993, 5, 12), 67),\n",
       " (23, 'SHRHLS', datetime.date(1990, 2, 12), 70),\n",
       " (23, 'SHRHLS', datetime.date(1990, 2, 12), 73),\n",
       " (1, 'SARTHAK', datetime.date(1996, 4, 14), 456),\n",
       " (1, 'SART', datetime.date(1995, 5, 21), 576),\n",
       " (1, 'SART', datetime.date(1995, 5, 21), 598),\n",
       " (1, 'STWR', datetime.date(1993, 5, 12), 636),\n",
       " (1, 'STWR', datetime.date(1993, 5, 12), 675),\n",
       " (23, 'SHRHLS', datetime.date(1990, 2, 12), 701),\n",
       " (23, 'SHRHLS', datetime.date(1990, 2, 12), 732),\n",
       " (1, 'SARTHAK', datetime.date(1996, 4, 14), 45656),\n",
       " (23, 'SHRHLS', datetime.date(1990, 2, 12), 73254),\n",
       " (1, 'SART', datetime.date(1995, 5, 21), 576445),\n",
       " (1, 'SART', datetime.date(1995, 5, 21), 5983344),\n",
       " (1, 'STWR', datetime.date(1993, 5, 12), 6754545),\n",
       " (23, 'SHRHLS', datetime.date(1990, 2, 12), 7014444),\n",
       " (1, 'STWR', datetime.date(1993, 5, 12), 636345544)]"
      ]
     },
     "execution_count": 43,
     "metadata": {},
     "output_type": "execute_result"
    }
   ],
   "source": [
    "mycursor.fetchall()"
   ]
  },
  {
   "cell_type": "markdown",
   "id": "663d562b",
   "metadata": {},
   "source": [
    "# DROP TABLE-"
   ]
  },
  {
   "cell_type": "code",
   "execution_count": 101,
   "id": "338b329f",
   "metadata": {},
   "outputs": [],
   "source": [
    "mycursor=mydb.cursor()\n",
    "mycursor.execute(\"drop table if exists sunday.m1\")"
   ]
  },
  {
   "cell_type": "code",
   "execution_count": 102,
   "id": "ef459cdf",
   "metadata": {},
   "outputs": [
    {
     "data": {
      "text/plain": [
       "[('n',), ('n1',)]"
      ]
     },
     "execution_count": 102,
     "metadata": {},
     "output_type": "execute_result"
    }
   ],
   "source": [
    "mycursor=mydb.cursor()\n",
    "mycursor.execute(\"SHOW TABLES\")\n",
    "mycursor.fetchall()"
   ]
  },
  {
   "cell_type": "code",
   "execution_count": 46,
   "id": "2ed9484b",
   "metadata": {},
   "outputs": [],
   "source": [
    "#dropping table if it exists-"
   ]
  },
  {
   "cell_type": "code",
   "execution_count": 48,
   "id": "98d35654",
   "metadata": {},
   "outputs": [],
   "source": [
    "mycursor=mydb.cursor()\n",
    "mycursor.execute(\"drop table if exists sunday.m \")"
   ]
  },
  {
   "cell_type": "markdown",
   "id": "6e7d9e12",
   "metadata": {},
   "source": [
    "# UPDATE TABLE-"
   ]
  },
  {
   "cell_type": "code",
   "execution_count": 112,
   "id": "92d81f58",
   "metadata": {},
   "outputs": [],
   "source": [
    "mycursor=mydb.cursor()"
   ]
  },
  {
   "cell_type": "code",
   "execution_count": 108,
   "id": "4ecaa571",
   "metadata": {},
   "outputs": [],
   "source": [
    "mycursor.execute(\"update SUNDAY.N1 set C2='SARTHAK'where C4=637\")"
   ]
  },
  {
   "cell_type": "code",
   "execution_count": 115,
   "id": "ff21dac7",
   "metadata": {},
   "outputs": [],
   "source": [
    "mydb.commit()"
   ]
  },
  {
   "cell_type": "code",
   "execution_count": 111,
   "id": "bcb661d2",
   "metadata": {},
   "outputs": [],
   "source": [
    "#UPDATING TABLE BY ENCRYPTING VALUES-"
   ]
  },
  {
   "cell_type": "code",
   "execution_count": 114,
   "id": "08377a9a",
   "metadata": {},
   "outputs": [],
   "source": [
    "query=\"update SUNDAY.N1 set C2=%s where C4=%s\"\n",
    "t=(\"SARTHAK\",\"726\")\n",
    "mycursor.execute(query,t)"
   ]
  },
  {
   "cell_type": "markdown",
   "id": "f8a3a03c",
   "metadata": {},
   "source": [
    "# LIMIT TABLE-"
   ]
  },
  {
   "cell_type": "markdown",
   "id": "1a9fa66a",
   "metadata": {},
   "source": [
    "Limit the Result\n",
    "You can limit the number of records returned from the query, by using the \"LIMIT\" statement:"
   ]
  },
  {
   "cell_type": "code",
   "execution_count": 116,
   "id": "409860c3",
   "metadata": {},
   "outputs": [],
   "source": [
    "mycursor=mydb.cursor()"
   ]
  },
  {
   "cell_type": "code",
   "execution_count": 119,
   "id": "b799d39b",
   "metadata": {},
   "outputs": [],
   "source": [
    "mycursor.execute(\"SELECT * FROM SUNDAY.N1 LIMIT 3\")"
   ]
  },
  {
   "cell_type": "code",
   "execution_count": 120,
   "id": "c3275375",
   "metadata": {},
   "outputs": [
    {
     "data": {
      "text/plain": [
       "[(1, 'SARTHAK', datetime.date(1993, 5, 12), 637),\n",
       " (23, 'SARTHAK', datetime.date(1990, 2, 12), 726),\n",
       " (23, 'SHRHLS', datetime.date(1990, 2, 12), 736)]"
      ]
     },
     "execution_count": 120,
     "metadata": {},
     "output_type": "execute_result"
    }
   ],
   "source": [
    "mycursor.fetchall()"
   ]
  },
  {
   "cell_type": "markdown",
   "id": "8a6888dc",
   "metadata": {},
   "source": [
    "Start From Another Position\n",
    "If you want to return five records, starting from the third record, you can use the \"OFFSET\" keyword:"
   ]
  },
  {
   "cell_type": "code",
   "execution_count": 121,
   "id": "04b44685",
   "metadata": {},
   "outputs": [],
   "source": [
    "mycursor=mydb.cursor()"
   ]
  },
  {
   "cell_type": "code",
   "execution_count": 123,
   "id": "e921144c",
   "metadata": {},
   "outputs": [],
   "source": [
    "mycursor.execute(\"SELECT * FROM SUNDAY.N1 LIMIT 3 OFFSET 2\")"
   ]
  },
  {
   "cell_type": "code",
   "execution_count": 124,
   "id": "72056531",
   "metadata": {},
   "outputs": [
    {
     "data": {
      "text/plain": [
       "[(23, 'SHRHLS', datetime.date(1990, 2, 12), 736),\n",
       " (123, 'MANISHGA', datetime.date(1992, 4, 12), 1234),\n",
       " (1, 'STWR', datetime.date(1993, 5, 12), 6374)]"
      ]
     },
     "execution_count": 124,
     "metadata": {},
     "output_type": "execute_result"
    }
   ],
   "source": [
    "mycursor.fetchall()"
   ]
  },
  {
   "cell_type": "markdown",
   "id": "81238c24",
   "metadata": {},
   "source": [
    "# MYSQL JOIN-"
   ]
  },
  {
   "cell_type": "code",
   "execution_count": 3,
   "id": "a4e94157",
   "metadata": {},
   "outputs": [],
   "source": [
    "import mysql.connector as connection\n",
    "mydb=connection.connect(user=\"root\",database=\"sunday\",passwd=\"mysql\",host=\"localhost\",use_pure=True)"
   ]
  },
  {
   "cell_type": "code",
   "execution_count": 15,
   "id": "3743588c",
   "metadata": {},
   "outputs": [],
   "source": [
    "mycursor=mydb.cursor()"
   ]
  },
  {
   "cell_type": "code",
   "execution_count": 131,
   "id": "4130ddd9",
   "metadata": {},
   "outputs": [],
   "source": [
    "mycursor.execute(\"create table customers(id INT(90),cust_name VARCHAR(90),designation VARCHAR(10))\")"
   ]
  },
  {
   "cell_type": "code",
   "execution_count": 132,
   "id": "c98367a5",
   "metadata": {},
   "outputs": [],
   "source": [
    "mycursor.execute(\"create table orders(or_id INT(90),amount INT(90),cust_id INT(90))\")"
   ]
  },
  {
   "cell_type": "code",
   "execution_count": 134,
   "id": "8574660f",
   "metadata": {},
   "outputs": [],
   "source": [
    "mycursor.execute(\"drop table if exists customer\")"
   ]
  },
  {
   "cell_type": "code",
   "execution_count": 136,
   "id": "a0cc9c47",
   "metadata": {},
   "outputs": [],
   "source": [
    "mycursor.execute(\"drop table if exists users\")"
   ]
  },
  {
   "cell_type": "code",
   "execution_count": 8,
   "id": "24e70756",
   "metadata": {},
   "outputs": [],
   "source": [
    "l=[(1,'abc','A'),(2,'pqr','B'),(3,'mno','C')]\n",
    "l1=[(601,10000,1),(602,2000,4),(603,1500,3)]"
   ]
  },
  {
   "cell_type": "code",
   "execution_count": 11,
   "id": "91c0ccfb",
   "metadata": {},
   "outputs": [],
   "source": [
    "q1=\"insert into CUSTOMERS(id,cust_name,designation) values(%s,%s,%s)\"\n",
    "q2=\"insert into ORDERS(or_id,amount,cust_id) values(%s,%s,%s)\""
   ]
  },
  {
   "cell_type": "code",
   "execution_count": 16,
   "id": "3f61b215",
   "metadata": {},
   "outputs": [],
   "source": [
    "mycursor.executemany(q2,l1)"
   ]
  },
  {
   "cell_type": "code",
   "execution_count": 17,
   "id": "dcad53a9",
   "metadata": {},
   "outputs": [],
   "source": [
    "mydb.commit()"
   ]
  },
  {
   "cell_type": "code",
   "execution_count": 18,
   "id": "b9342961",
   "metadata": {},
   "outputs": [],
   "source": [
    "#INNER JOIN-"
   ]
  },
  {
   "cell_type": "code",
   "execution_count": 40,
   "id": "4bf734e5",
   "metadata": {},
   "outputs": [],
   "source": [
    "query=\"SELECT CUSTOMERS.cust_name,ORDERS.or_id\\\n",
    "       FROM ORDERS\\\n",
    "       INNER JOIN CUSTOMERS ON CUSTOMERS.id=ORDERS.cust_id\"                                       \n",
    "       \n",
    "#A INTERSECTION B"
   ]
  },
  {
   "cell_type": "code",
   "execution_count": 45,
   "id": "33181c29",
   "metadata": {},
   "outputs": [],
   "source": [
    "mycursor=mydb.cursor()"
   ]
  },
  {
   "cell_type": "code",
   "execution_count": 42,
   "id": "22e14764",
   "metadata": {},
   "outputs": [],
   "source": [
    "mycursor.execute(query)"
   ]
  },
  {
   "cell_type": "code",
   "execution_count": 43,
   "id": "6b89e810",
   "metadata": {},
   "outputs": [
    {
     "data": {
      "text/plain": [
       "[('abc', 601), ('mno', 603)]"
      ]
     },
     "execution_count": 43,
     "metadata": {},
     "output_type": "execute_result"
    }
   ],
   "source": [
    "mycursor.fetchall()"
   ]
  },
  {
   "cell_type": "code",
   "execution_count": 44,
   "id": "e67246a6",
   "metadata": {},
   "outputs": [],
   "source": [
    "query1=\"SELECT CUSTOMERS.cust_name,ORDERS.or_id\\\n",
    "       FROM ORDERS\\\n",
    "       LEFT JOIN CUSTOMERS ON CUSTOMERS.id=ORDERS.cust_id\"                                       \n",
    "#LEFT SET-ORDERS RIGHT SET-CUSTOMERS A or (A INTERSECTION B)"
   ]
  },
  {
   "cell_type": "code",
   "execution_count": 46,
   "id": "b386880d",
   "metadata": {},
   "outputs": [],
   "source": [
    "mycursor.execute(query1)"
   ]
  },
  {
   "cell_type": "code",
   "execution_count": 47,
   "id": "adf1570b",
   "metadata": {},
   "outputs": [
    {
     "data": {
      "text/plain": [
       "[('abc', 601), (None, 602), ('mno', 603)]"
      ]
     },
     "execution_count": 47,
     "metadata": {},
     "output_type": "execute_result"
    }
   ],
   "source": [
    "mycursor.fetchall()"
   ]
  },
  {
   "cell_type": "code",
   "execution_count": 48,
   "id": "e3e3e0b0",
   "metadata": {},
   "outputs": [],
   "source": [
    "query2=\"SELECT CUSTOMERS.cust_name,ORDERS.or_id\\\n",
    "       FROM ORDERS\\\n",
    "       RIGHT JOIN CUSTOMERS ON CUSTOMERS.id=ORDERS.cust_id\"\n",
    "#B or B intersection A"
   ]
  },
  {
   "cell_type": "code",
   "execution_count": 49,
   "id": "13c5d354",
   "metadata": {},
   "outputs": [],
   "source": []
  },
  {
   "cell_type": "code",
   "execution_count": 50,
   "id": "5675cd41",
   "metadata": {},
   "outputs": [],
   "source": [
    "mycursor.execute(query2)"
   ]
  },
  {
   "cell_type": "code",
   "execution_count": 51,
   "id": "83e5635c",
   "metadata": {},
   "outputs": [
    {
     "data": {
      "text/plain": [
       "[('abc', 601), ('pqr', None), ('mno', 603)]"
      ]
     },
     "execution_count": 51,
     "metadata": {},
     "output_type": "execute_result"
    }
   ],
   "source": [
    "mycursor.fetchall()"
   ]
  },
  {
   "cell_type": "code",
   "execution_count": 58,
   "id": "c07b930e",
   "metadata": {},
   "outputs": [],
   "source": [
    "query3=\"SELECT CUSTOMERS.cust_name,ORDERS.or_id\\\n",
    "       FROM ORDERS\\\n",
    "       FULL OUTERJOIN CUSTOMERS ON CUSTOMERS.id=ORDERS.cust_id\""
   ]
  },
  {
   "cell_type": "code",
   "execution_count": 56,
   "id": "6ee0e2e5",
   "metadata": {},
   "outputs": [],
   "source": [
    "mycursor=mydb.cursor()"
   ]
  },
  {
   "cell_type": "code",
   "execution_count": 60,
   "id": "a33d0cc0",
   "metadata": {},
   "outputs": [],
   "source": [
    "mydb.close()"
   ]
  },
  {
   "cell_type": "code",
   "execution_count": null,
   "id": "d9f1cc71",
   "metadata": {},
   "outputs": [],
   "source": [
    "import "
   ]
  }
 ],
 "metadata": {
  "kernelspec": {
   "display_name": "Python 3 (ipykernel)",
   "language": "python",
   "name": "python3"
  },
  "language_info": {
   "codemirror_mode": {
    "name": "ipython",
    "version": 3
   },
   "file_extension": ".py",
   "mimetype": "text/x-python",
   "name": "python",
   "nbconvert_exporter": "python",
   "pygments_lexer": "ipython3",
   "version": "3.9.7"
  }
 },
 "nbformat": 4,
 "nbformat_minor": 5
}
