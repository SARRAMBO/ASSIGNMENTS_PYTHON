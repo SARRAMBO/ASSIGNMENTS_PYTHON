{
 "cells": [
  {
   "cell_type": "markdown",
   "id": "6f696ffe",
   "metadata": {},
   "source": [
    "1. Create a zoo.py file first. Define the hours() function, which prints the string 'Open 9-5 daily'. Then, use the interactive interpreter to import the zoo module and call its hours() function.\n",
    "2. In the interactive interpreter, import the zoo module as menagerie and call its hours() function.\n",
    "3. Using the interpreter, explicitly import and call the hours() function from zoo.\n",
    "4. Import the hours() function as info and call it.\n",
    "5. Create a plain dictionary with the key-value pairs 'a': 1, 'b': 2, and 'c': 3, and print it out.\n",
    "6.Make an OrderedDict called fancy from the same pairs listed in 5 and print it. Did it print in the same order as plain?\n",
    "7. Make a default dictionary called dict_of_lists and pass it the argument list. Make the list dict_of_lists['a'] and append the value 'something for a' to it in one assignment. Print dict_of_lists['a'].\n",
    "\n"
   ]
  },
  {
   "cell_type": "code",
   "execution_count": 28,
   "id": "b0061c4b",
   "metadata": {},
   "outputs": [
    {
     "name": "stdout",
     "output_type": "stream",
     "text": [
      "Open 9-5 daily\n"
     ]
    }
   ],
   "source": [
    "#Q1)-\n",
    "class interactive_interpreter():\n",
    "    def callZoo(self):\n",
    "        import zoo\n",
    "        zoo.hours()\n",
    "i=interactive_interpreter()\n",
    "i.callZoo()"
   ]
  },
  {
   "cell_type": "code",
   "execution_count": 31,
   "id": "ff49161d",
   "metadata": {},
   "outputs": [
    {
     "name": "stdout",
     "output_type": "stream",
     "text": [
      "Open 9-5 daily\n"
     ]
    }
   ],
   "source": [
    "#Q2)-\n",
    "class interactive_interpreter1():\n",
    "     def callZooalias(self):\n",
    "            import zoo as menagerie\n",
    "            menagerie.hours()\n",
    "i=interactive_interpreter1()\n",
    "i.callZooalias()"
   ]
  },
  {
   "cell_type": "code",
   "execution_count": 2,
   "id": "a2214153",
   "metadata": {},
   "outputs": [
    {
     "name": "stdout",
     "output_type": "stream",
     "text": [
      "This is zoo module\n",
      "Open 9-5 daily\n"
     ]
    }
   ],
   "source": [
    "#Q3)-\n",
    "def interactive_interpreter():\n",
    "    import zoo\n",
    "    zoo.hours()\n",
    "    \n",
    "     \n",
    "    \n",
    "interactive_interpreter()   "
   ]
  },
  {
   "cell_type": "code",
   "execution_count": 4,
   "id": "db2cf224",
   "metadata": {},
   "outputs": [],
   "source": [
    "#Q4-)\n",
    "import zoo\n",
    "from zoo import hours as info"
   ]
  },
  {
   "cell_type": "code",
   "execution_count": 5,
   "id": "48c2c69e",
   "metadata": {},
   "outputs": [
    {
     "name": "stdout",
     "output_type": "stream",
     "text": [
      "Open 9-5 daily\n"
     ]
    }
   ],
   "source": [
    "info()"
   ]
  },
  {
   "cell_type": "code",
   "execution_count": 9,
   "id": "f4561346",
   "metadata": {},
   "outputs": [
    {
     "data": {
      "text/plain": [
       "{'a': 1, 'b': 2, 'c': 3}"
      ]
     },
     "execution_count": 9,
     "metadata": {},
     "output_type": "execute_result"
    }
   ],
   "source": [
    "#q5)\n",
    "d={}\n",
    "d.setdefault('a',1)\n",
    "d.setdefault('b',2)\n",
    "d.setdefault('c',3)\n",
    "d"
   ]
  },
  {
   "cell_type": "markdown",
   "id": "c69c2bf6",
   "metadata": {},
   "source": [
    "#Q6)-An OrderedDict is a dictionary subclass that remembers the order that keys were first inserted. The only difference between dict() and OrderedDict() is that:\n",
    "\n",
    "OrderedDict preserves the order in which the keys are inserted. A regular dict doesn’t track the insertion order and iterating it gives the values in an arbitrary order. By contrast, the order the items are inserted is remembered by OrderedDict.\n"
   ]
  },
  {
   "cell_type": "code",
   "execution_count": 14,
   "id": "862e0a93",
   "metadata": {},
   "outputs": [
    {
     "data": {
      "text/plain": [
       "OrderedDict([('a', 1), ('b', 2), ('c', 3)])"
      ]
     },
     "execution_count": 14,
     "metadata": {},
     "output_type": "execute_result"
    }
   ],
   "source": [
    "#Q6)-\n",
    "from collections import OrderedDict\n",
    "od=OrderedDict()\n",
    "od[\"a\"]=1\n",
    "od[\"b\"]=2\n",
    "od[\"c\"]=3\n",
    "\n",
    "od\n",
    "#calling ordered dictionary prints the list of tuples of key value pairs but in the same order as above because it remembers the order in which the key value pairs have been inserted.(inserted int the same way as above)"
   ]
  },
  {
   "cell_type": "code",
   "execution_count": 24,
   "id": "867fcf7c",
   "metadata": {},
   "outputs": [
    {
     "name": "stdout",
     "output_type": "stream",
     "text": [
      "['Something for a']\n"
     ]
    }
   ],
   "source": [
    "#Q7)-\n",
    "dict_of_lists={'a':[]}\n",
    "dict_of_lists['a'].append(\"Something for a\")\n",
    "print(dict_of_lists['a'])"
   ]
  },
  {
   "cell_type": "code",
   "execution_count": null,
   "id": "1b11abbb",
   "metadata": {},
   "outputs": [],
   "source": []
  }
 ],
 "metadata": {
  "kernelspec": {
   "display_name": "Python 3 (ipykernel)",
   "language": "python",
   "name": "python3"
  },
  "language_info": {
   "codemirror_mode": {
    "name": "ipython",
    "version": 3
   },
   "file_extension": ".py",
   "mimetype": "text/x-python",
   "name": "python",
   "nbconvert_exporter": "python",
   "pygments_lexer": "ipython3",
   "version": "3.9.7"
  }
 },
 "nbformat": 4,
 "nbformat_minor": 5
}
