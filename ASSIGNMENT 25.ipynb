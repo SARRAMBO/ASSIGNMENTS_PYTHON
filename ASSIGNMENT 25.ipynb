{
 "cells": [
  {
   "cell_type": "markdown",
   "id": "e758f3fe",
   "metadata": {},
   "source": [
    "1) . What is the difference between enclosing a list comprehension in square brackets and parentheses?\n",
    "Ans1)-The first one gives a list of all elements in the iterable entity whereas the second one gives set(selecting distinct entries from an iterable entity only.\n",
    "\n",
    "2) What is the relationship between generators and iterators?\n",
    "Ans2)-Iterator is a type of object of any class which has next() method to parse the  elements of an iterable entity.\n",
    " A generator is built by calling a function that has one or more yield expressions.It basically remembers all the computations and throws all of it into a temporary object,which gets created at the time of calling the generator function.The generstor object then can be subjected to iteration or typecasted into a list to give out results.\n",
    " \n",
    "A generator is an iterator but vice versa is not true always.\n",
    "\n",
    "3) What are the signs that a function is a generator function?\n",
    "The \"yield\" keyword instead of return/print statement signifies a generator function.\n",
    "During the calling of generator function,we dont get the direct result.It shows some generator object being created at the memory(RAM) which can be typecasted or iterated over to fetch results.\n",
    "\n",
    "4) What is the purpose of a yield statement?\n",
    "Yield statment is supposed to remember all computations and throw it into a generator object when the function having \"yield\" is being called.\n",
    "\n",
    "5) What is the relationship between map calls and list comprehensions? Make a comparison and contrast between the two.\n",
    "Map function is used to perform a function's computation over a list of elements.\n",
    "List comprehension is the shortest way of appending elements inside the list by iterating over an iterable entity.\n",
    "Although both can be used to achieve the same objective,map is a generator function which stores the computation of function on the list over a generator object which can be iterated or typecasted into list to achieve the desired manipulated values.\n",
    "Whereas list comprehensions are way of directly performing the computations,storing the computational results through l.append(which is invoked by default in list comprehension) and then releasing the final memory location on console. "
   ]
  },
  {
   "cell_type": "code",
   "execution_count": 7,
   "id": "8ace5b4b",
   "metadata": {},
   "outputs": [
    {
     "name": "stdout",
     "output_type": "stream",
     "text": [
      "<class 'list'>\n",
      "<class 'set'>\n"
     ]
    }
   ],
   "source": [
    "#Q1)-\n",
    "l=[i for i in \"SAR\"]\n",
    "k={i for i in \"SAR\"}\n",
    "print(type(l))\n",
    "print(type(k))"
   ]
  },
  {
   "cell_type": "code",
   "execution_count": 20,
   "id": "7d40bb91",
   "metadata": {},
   "outputs": [
    {
     "data": {
      "text/plain": [
       "False"
      ]
     },
     "execution_count": 20,
     "metadata": {},
     "output_type": "execute_result"
    }
   ],
   "source": [
    "#Q5-\n",
    "l=[1,2,3]\n",
    "def f(x):\n",
    "    return x+9\n",
    "l1=list(map(f,l))\n",
    "\n",
    "l2=[i+9 for i in range(1,4)]\n"
   ]
  },
  {
   "cell_type": "code",
   "execution_count": 21,
   "id": "04d039b4",
   "metadata": {},
   "outputs": [
    {
     "name": "stdout",
     "output_type": "stream",
     "text": [
      "10\n",
      "11\n",
      "12\n"
     ]
    }
   ],
   "source": [
    "for i in map(f,l):\n",
    "    print(i)"
   ]
  },
  {
   "cell_type": "code",
   "execution_count": null,
   "id": "854b4ff4",
   "metadata": {},
   "outputs": [],
   "source": []
  }
 ],
 "metadata": {
  "kernelspec": {
   "display_name": "Python 3 (ipykernel)",
   "language": "python",
   "name": "python3"
  },
  "language_info": {
   "codemirror_mode": {
    "name": "ipython",
    "version": 3
   },
   "file_extension": ".py",
   "mimetype": "text/x-python",
   "name": "python",
   "nbconvert_exporter": "python",
   "pygments_lexer": "ipython3",
   "version": "3.9.7"
  }
 },
 "nbformat": 4,
 "nbformat_minor": 5
}
