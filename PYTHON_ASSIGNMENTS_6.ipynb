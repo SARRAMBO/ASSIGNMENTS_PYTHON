{
 "cells": [
  {
   "cell_type": "markdown",
   "id": "7f0037e1",
   "metadata": {},
   "source": [
    "1. What are escape characters, and how do you use them?\n",
    "Ans1)- \n",
    "      Escape characters represent characters in string values that would otherwise be difficult or impossible to type into       code. Ex- \"\\n\" stands for newline,\"\\r\" stands for carriage return.\n",
    "\n",
    "2. What do the escape characters n and t stand for?\n",
    "Ans2)- \n",
    "      \\n is a newline; \\t is a tab.\n",
    "\n",
    "\n",
    "3. What is the way to include backslash characters in a string?\n",
    "Ans 3)-\n",
    "      The '\\\\' escape character will represent a backslash character when given with a string literal.\n",
    "\n",
    "4. The string \"Howl's Moving Castle\" is a correct value. Why isn't the single quote character in the word Howl's not escaped a problem?\n",
    "Ans5)-\n",
    "      We have defined the above string literal in \"\". So single quote character in Howl's will get recognised as a string         in between \"\".\n",
    "5. How do you write a string of newlines if you don't want to use the n character?\n",
    "Ans6)-\n",
    "      Multiline strings allow you to use newlines in strings without the \\n escape character.\n",
    "      We can also try iterating through a string a printing every iteration. By default we get every iteration printed on a       newline without the need of using \"\\n\" character.\n",
    "\n",
    "6. What are the values of the given expressions?\n",
    "'Hello, world!'[1]- \"e\"\n",
    "'Hello, world!'[0:5]- \"Hello\"\n",
    "'Hello, world!'[:5]-  \"Hello\"\n",
    "'Hello, world!'[3:]-  \"lo, world!\"\n",
    "\n",
    "7. What are the values of the following expressions?\n",
    "'Hello'.upper()- \"HELLO\"\n",
    "'Hello'.upper().isupper()- True\n",
    "'Hello'.upper().lower()-   'hello'\n",
    "8. What are the values of the following expressions?\n",
    "'Remember, remember, the fifth of July.'.split()- ['Remember,', 'remember,', 'the', 'fifth', 'of', 'July.']\n",
    "\n",
    "'-'.join('There can only one.'.split())-  'There-can-only-one.'   (\"\".join() can be used for a list as well)\n",
    "9. What are the methods for right-justifying, left-justifying, and centering a string?\n",
    "ANS9)-\n",
    "      rjust(),ljust(),center() respectively.\n",
    "\n",
    "10. What is the best way to remove whitespace characters from the start or end?\n",
    "Ans10)-\n",
    "       The lstrip() and rstrip() methods remove whitespace from the left and right ends of a string, respectively.\n"
   ]
  },
  {
   "cell_type": "code",
   "execution_count": 18,
   "id": "42dce914",
   "metadata": {},
   "outputs": [
    {
     "data": {
      "text/plain": [
       "'lo, world!'"
      ]
     },
     "execution_count": 18,
     "metadata": {},
     "output_type": "execute_result"
    }
   ],
   "source": [
    "#Q6-\n",
    "'Hello, world!'[1]\n",
    "'Hello, world!'[0:5]\n",
    "'Hello, world!'[:5]\n",
    "'Hello, world!'[3:]"
   ]
  },
  {
   "cell_type": "code",
   "execution_count": 28,
   "id": "70d7cb82",
   "metadata": {},
   "outputs": [
    {
     "data": {
      "text/plain": [
       "'There-can-only-one.'"
      ]
     },
     "execution_count": 28,
     "metadata": {},
     "output_type": "execute_result"
    }
   ],
   "source": [
    "#Q8-\n",
    "'Remember, remember, the fifth of July.'.split()\n",
    "'-'.join('There can only one.'.split())"
   ]
  },
  {
   "cell_type": "code",
   "execution_count": 27,
   "id": "384434d5",
   "metadata": {},
   "outputs": [
    {
     "data": {
      "text/plain": [
       "'POPE'"
      ]
     },
     "execution_count": 27,
     "metadata": {},
     "output_type": "execute_result"
    }
   ],
   "source": [
    "s=\"POPE\"\n",
    "s.ljust(2)\n",
    "s.rjust(3)\n",
    "s.ljust(1)\n",
    "s.rjust(4)"
   ]
  },
  {
   "cell_type": "code",
   "execution_count": null,
   "id": "7207b01f",
   "metadata": {},
   "outputs": [],
   "source": []
  }
 ],
 "metadata": {
  "kernelspec": {
   "display_name": "Python 3",
   "language": "python",
   "name": "python3"
  },
  "language_info": {
   "codemirror_mode": {
    "name": "ipython",
    "version": 3
   },
   "file_extension": ".py",
   "mimetype": "text/x-python",
   "name": "python",
   "nbconvert_exporter": "python",
   "pygments_lexer": "ipython3",
   "version": "3.8.8"
  }
 },
 "nbformat": 4,
 "nbformat_minor": 5
}
