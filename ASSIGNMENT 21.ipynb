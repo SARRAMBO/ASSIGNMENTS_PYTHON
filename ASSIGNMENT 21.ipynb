{
 "cells": [
  {
   "cell_type": "markdown",
   "id": "93352acd",
   "metadata": {},
   "source": [
    "1. Add the current date to the text file today.txt as a string.\n",
    "2. Read the text file today.txt into the string today_string\n",
    "3. Parse the date from today_string.\n",
    "4. List the files in your current directory\n",
    "5. Create a list of all of the files in your parent directory (minimum five files should be available).\n",
    "6. Use multiprocessing to create three separate processes. Make each one wait a random number of seconds between one and five, print the current time, and then exit.\n",
    "7. Create a date object of your day of birth.\n",
    "8. What day of the week was your day of birth?\n",
    "9. When will you be (or when were you) 10,000 days old?\n"
   ]
  },
  {
   "cell_type": "code",
   "execution_count": 6,
   "id": "3150d8f1",
   "metadata": {},
   "outputs": [
    {
     "name": "stdout",
     "output_type": "stream",
     "text": [
      "Today's date: 2022-03-23\n"
     ]
    }
   ],
   "source": [
    "#Q1)\n",
    "import os\n",
    "from datetime import date\n",
    "\n",
    "today = date.today()\n",
    "print(\"Today's date:\", today)\n",
    "\n",
    "f=open(\"today.txt\",\"w\")\n",
    "f.write(str(today))\n",
    "f.close()"
   ]
  },
  {
   "cell_type": "code",
   "execution_count": 9,
   "id": "fb516048",
   "metadata": {},
   "outputs": [
    {
     "data": {
      "text/plain": [
       "'2022-03-23'"
      ]
     },
     "execution_count": 9,
     "metadata": {},
     "output_type": "execute_result"
    }
   ],
   "source": [
    "#Q2-\n",
    "f=open('today.txt','r')\n",
    "today_string=f.read()\n",
    "today_string"
   ]
  },
  {
   "cell_type": "code",
   "execution_count": 10,
   "id": "64e42f9c",
   "metadata": {},
   "outputs": [
    {
     "name": "stdout",
     "output_type": "stream",
     "text": [
      "2022-03-23"
     ]
    }
   ],
   "source": [
    "#Q3)-\n",
    "for i in today_string:\n",
    "    print(i,end='')"
   ]
  },
  {
   "cell_type": "code",
   "execution_count": 20,
   "id": "b14673c0",
   "metadata": {},
   "outputs": [
    {
     "name": "stdout",
     "output_type": "stream",
     "text": [
      ".ipynb_checkpoints\n",
      "2022-03-23 18:10:09\n",
      ".ipynb_checkpoints\n",
      "2022-03-23 18:10:10\n",
      ".ipynb_checkpoints\n",
      "2022-03-23 18:10:12\n",
      ".ipynb_checkpoints\n",
      "2022-03-23 18:10:15\n",
      "ASSIGNMENT 11.ipynb\n",
      "2022-03-23 18:10:19\n",
      "ASSIGNMENT 11.ipynb\n",
      "2022-03-23 18:10:20\n",
      "ASSIGNMENT 11.ipynb\n",
      "2022-03-23 18:10:22\n",
      "ASSIGNMENT 11.ipynb\n",
      "2022-03-23 18:10:25\n",
      "ASSIGNMENT 13.ipynb\n",
      "2022-03-23 18:10:29\n",
      "ASSIGNMENT 13.ipynb\n",
      "2022-03-23 18:10:30\n",
      "ASSIGNMENT 13.ipynb\n",
      "2022-03-23 18:10:32\n",
      "ASSIGNMENT 13.ipynb\n",
      "2022-03-23 18:10:35\n",
      "ASSIGNMENT 18.ipynb\n",
      "2022-03-23 18:10:39\n",
      "ASSIGNMENT 18.ipynb\n",
      "2022-03-23 18:10:40\n",
      "ASSIGNMENT 18.ipynb\n",
      "2022-03-23 18:10:42\n",
      "ASSIGNMENT 18.ipynb\n",
      "2022-03-23 18:10:45\n"
     ]
    }
   ],
   "source": [
    "#q5 and Q6)-\n",
    "import datetime\n",
    "from datetime import date\n",
    "import time\n",
    "import os\n",
    "l=os.listdir()\n",
    "for i in l[0:4]:\n",
    "    for j in range(1,5):\n",
    "        print(i)\n",
    "        now = datetime. datetime. now()\n",
    "        print (now. strftime(\"%Y-%m-%d %H:%M:%S\"))\n",
    "        time.sleep(j)"
   ]
  },
  {
   "cell_type": "code",
   "execution_count": 22,
   "id": "975eda29",
   "metadata": {},
   "outputs": [
    {
     "name": "stdout",
     "output_type": "stream",
     "text": [
      "what day of the week was my birthday: 6\n"
     ]
    }
   ],
   "source": [
    "#Q7 and Q8-\n",
    "birthday=date(1996,4,14)\n",
    "print(\"what day of the week was my birthday:\",birthday.weekday())\n"
   ]
  },
  {
   "cell_type": "code",
   "execution_count": 23,
   "id": "f6d961e4",
   "metadata": {},
   "outputs": [
    {
     "name": "stdout",
     "output_type": "stream",
     "text": [
      "what will be the date when 10000 i will be 10,000 days old: 2023-08-31\n"
     ]
    }
   ],
   "source": [
    "#Q9-\n",
    "from datetime import timedelta\n",
    "day=birthday+timedelta(days=10000)\n",
    "print(\"what will be the date when 10000 i will be 10,000 days old:\",day) "
   ]
  },
  {
   "cell_type": "code",
   "execution_count": 1,
   "id": "c1714bf6",
   "metadata": {},
   "outputs": [
    {
     "name": "stdout",
     "output_type": "stream",
     "text": [
      "True\n"
     ]
    }
   ],
   "source": []
  },
  {
   "cell_type": "code",
   "execution_count": null,
   "id": "bf9c67d0",
   "metadata": {},
   "outputs": [],
   "source": []
  }
 ],
 "metadata": {
  "kernelspec": {
   "display_name": "Python 3 (ipykernel)",
   "language": "python",
   "name": "python3"
  },
  "language_info": {
   "codemirror_mode": {
    "name": "ipython",
    "version": 3
   },
   "file_extension": ".py",
   "mimetype": "text/x-python",
   "name": "python",
   "nbconvert_exporter": "python",
   "pygments_lexer": "ipython3",
   "version": "3.9.7"
  }
 },
 "nbformat": 4,
 "nbformat_minor": 5
}
