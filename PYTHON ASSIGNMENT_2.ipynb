{
 "cells": [
  {
   "cell_type": "markdown",
   "id": "0842fa82",
   "metadata": {},
   "source": [
    "1.What are the two values of the Boolean data type? How do you write them?\n",
    "ANS1)- There are two values of Boolean data types True and False.\n",
    "We write True by storing it in a variable,any expression which returns True or else compiler recognises True as 1.\n",
    "We write False by storing it in a variable,{},[],\"\",(),0 are recognised as False by compiler.\n",
    "\n",
    "2. What are the three different types of Boolean operators?\n",
    "ANS2)- \"and\",\"or\" and not(\"!\") are three types of Boolean operators.\n",
    "\n",
    "3. Make a list of each Boolean operator's truth tables (i.e. every possible combination of Boolean values for the operator and what it evaluate ).\n",
    "ANS3)-  AND OPERATOR-             OR OPERATOR-              NOT OPERATOR(!)\n",
    "        0 and 0= 0               0  or 0 =0                     !1= 0\n",
    "        0 and 1= 0               0  or 1 =1                     !0= 1\n",
    "        1 and 0= 0               1  or 0 =1                     !True= False\n",
    "        1 and 1= 1               1  or 1 =1                     !False=True\n",
    "           \n",
    "4. What are the values of the following expressions?\n",
    "Ans4)-\n",
    "(5>4) and (3==5) -- False\n",
    "not (5 > 4)      -- False\n",
    "(5 > 4) or (3 == 5)-- True\n",
    "not ((5 > 4) or (3 == 5))-- False\n",
    "(True and True) and (True == False)-- False\n",
    "(not False) or (not True)-- True\n",
    "\n",
    "5. What are the six comparison operators?\n",
    "Ans5)- The six comparision operators are >,<,>=,<=,==,!=.\n",
    "\n",
    "6. How do you tell the difference between the equal to and assignment operators?Describe a condition and when you would use one.\n",
    "Ans 6)- Equal operator is used when two variables stored same value.Assignment operator used to assign value to variable.\n",
    "Ex- a=10,b=10 (Assignment operator)\n",
    "    a==b will give True.(equal operator)\n",
    "    \n",
    "7. Identify the three blocks in this code:\n",
    "spam = 0\n",
    "if spam == 10:    \n",
    "print('eggs')\n",
    "if spam > 5:\n",
    "print('bacon')\n",
    "else:\n",
    "print('ham')\n",
    "print('spam')\n",
    "print('spam')\n",
    "Ans 7)- Q7 run in notebook.\n",
    "8)ode that prints Hello if 1 is stored in spam, prints Howdy if 2 is stored in spam, and prints Greetings! if anything else is stored in spam.\n",
    "Ans8)- Q8 run in notebook.\n",
    "\n",
    "9.If your programme is stuck in an endless loop, what keys you’ll press?\n",
    "Ans9)- Press Ctrl+C\n",
    "\n",
    "\n",
    "10. How can you tell the difference between break and continue?\n",
    "Ans)-\n",
    "break- statement breaks away from a loop when the condition/indentation its placed under gets satisfied.\n",
    "continue- statement reiterates back to the starting of the loop and helps us skip undesirable iterations of an iterable object.\n",
    "\n",
    "11. In a for loop, what is the difference between range(10), range(0, 10), and range(0, 10, 1)?\n",
    "Ans11-There is no difference in execution of above three in for loop.All results are same 0123456789.\n",
    "\n",
    "12. Write a short program that prints the numbers 1 to 10 using a for loop. Then write an equivalent program that prints the numbers 1 to 10 using a while loop.\n",
    "Ans12)- Q12 done in notebook.\n",
    "\n",
    "13. If you had a function named bacon() inside a module named spam, how would you call it after importing spam?\n",
    "Ans 13)- import spam\n",
    "         from spam import bacon\n",
    "         bacon()\n"
   ]
  },
  {
   "cell_type": "code",
   "execution_count": 6,
   "id": "7b63fcfb",
   "metadata": {},
   "outputs": [
    {
     "data": {
      "text/plain": [
       "True"
      ]
     },
     "execution_count": 6,
     "metadata": {},
     "output_type": "execute_result"
    }
   ],
   "source": [
    "#Q4-\n",
    "(5>4) and (3==5)\n",
    "not (5 > 4)\n",
    "(5 > 4) or (3 == 5)\n",
    "not ((5 > 4) or (3 == 5))\n",
    "(True and True) and (True == False)\n",
    "(not False) or (not True)"
   ]
  },
  {
   "cell_type": "code",
   "execution_count": 11,
   "id": "38b69ea9",
   "metadata": {},
   "outputs": [
    {
     "name": "stdout",
     "output_type": "stream",
     "text": [
      "ham\n",
      "spam\n",
      "spam\n"
     ]
    }
   ],
   "source": [
    "#Q7-\n",
    "spam = 0\n",
    "if spam == 10:\n",
    "    print('eggs')   #indentation error fixed \n",
    "if spam > 5:\n",
    "    print('bacon')  #indentation error fixed\n",
    "else:\n",
    "    print('ham')    #indentation error fixed\n",
    "    print('spam')   #indentation error fixed\n",
    "    print('spam')   #indentation error fixed"
   ]
  },
  {
   "cell_type": "code",
   "execution_count": 15,
   "id": "0983e53b",
   "metadata": {},
   "outputs": [
    {
     "name": "stdout",
     "output_type": "stream",
     "text": [
      "ENTER A NUMBER3\n",
      "Greetings!\n"
     ]
    }
   ],
   "source": [
    "#Q8-\n",
    "spam=int(input(\"ENTER A NUMBER\"))\n",
    "if spam == 1:\n",
    "    print(\"Hello\")\n",
    "elif spam == 2:\n",
    "    print(\"Howdy\")\n",
    "else:\n",
    "    print(\"Greetings!\")"
   ]
  },
  {
   "cell_type": "code",
   "execution_count": 22,
   "id": "c28f0b4a",
   "metadata": {},
   "outputs": [
    {
     "name": "stdout",
     "output_type": "stream",
     "text": [
      "012345678901234567890123456789"
     ]
    }
   ],
   "source": [
    "#Q11-\n",
    "for i in range(0,10,1):\n",
    "    print(i,end=\"\")\n",
    "    \n",
    "for i in range(0,10):\n",
    "    print(i,end=\"\")\n",
    "    \n",
    "for i in range(10):\n",
    "    print(i,end='')"
   ]
  },
  {
   "cell_type": "code",
   "execution_count": 24,
   "id": "658f863b",
   "metadata": {},
   "outputs": [
    {
     "name": "stdout",
     "output_type": "stream",
     "text": [
      "1 2 3 4 5 6 7 8 9 10 "
     ]
    }
   ],
   "source": [
    "#Q12)-\n",
    "for i in range(1,11):\n",
    "    print(i,end=\" \")"
   ]
  },
  {
   "cell_type": "code",
   "execution_count": 3,
   "id": "c8c56768",
   "metadata": {},
   "outputs": [
    {
     "name": "stdout",
     "output_type": "stream",
     "text": [
      "1 2 3 4 5 6 7 8 9 10 "
     ]
    }
   ],
   "source": [
    "#Q12)-\n",
    "i=1\n",
    "while i<11:\n",
    "    print(i,end=' ')\n",
    "    i=i+1"
   ]
  },
  {
   "cell_type": "code",
   "execution_count": null,
   "id": "5c92a976",
   "metadata": {},
   "outputs": [],
   "source": []
  }
 ],
 "metadata": {
  "kernelspec": {
   "display_name": "Python 3",
   "language": "python",
   "name": "python3"
  },
  "language_info": {
   "codemirror_mode": {
    "name": "ipython",
    "version": 3
   },
   "file_extension": ".py",
   "mimetype": "text/x-python",
   "name": "python",
   "nbconvert_exporter": "python",
   "pygments_lexer": "ipython3",
   "version": "3.8.8"
  }
 },
 "nbformat": 4,
 "nbformat_minor": 5
}
