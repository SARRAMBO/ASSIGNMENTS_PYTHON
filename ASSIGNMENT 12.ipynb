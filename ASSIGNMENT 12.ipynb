{
 "cells": [
  {
   "cell_type": "markdown",
   "id": "a47aaa91",
   "metadata": {},
   "source": [
    "1. In what modes should the PdfFileReader() and PdfFileWriter() File objects will be opened?\n",
    "Ans1)-\n",
    "Read-binary ('rb') for PdfFileReader() and write-binary ('wb') for PdfFileWriter()\n",
    "\n",
    "\n",
    "2. From a PdfFileReader object, how do you get a Page object for page 5?\n",
    "Ans2)-\n",
    "Calling getPage(5) will return a Page object for Page 5, if page 1 is the first page.\n",
    "\n",
    "3. What PdfFileReader variable stores the number of pages in the PDF document?\n",
    "Ans3)-\n",
    "The numPages variable stores an integer of the number of pages in the PdfFileReader object.\n",
    "\n",
    "4. If a PdfFileReader object’s PDF is encrypted with the password swordfish, what must you do before you can obtain Page objects from it?\n",
    "Ans4)-\n",
    "By calling decrypt('swordfish').\n",
    "\n",
    "5. What methods do you use to rotate a page?\n",
    "Ans5)-\n",
    "The rotateClockwise() and rotateCounterClockwise() methods. The degrees to rotate is passed as an integer argument as radians.\n",
    "\n",
    "\n",
    "6. What is the difference between a Run object and a Paragraph object?\n",
    "Ans6)-\n",
    "A document contains multiple paragraphs. A paragraph begins on a new line and contains multiple runs. Runs are continuous groups of characters within a paragraph.\n",
    "\n",
    "\n",
    "7. How do you obtain a list of Paragraph objects for a Document object that’s stored in a variable named doc?\n",
    "Ans7)-\n",
    "Using doc.paragraphs()\n",
    "\n",
    "8. What type of object has bold, underline, italic, strike, and outline variables?\n",
    "ANs8)-\n",
    "A run object has these variables.\n",
    "\n",
    "9. What is the difference between False, True, and None for the bold variable?\n",
    "Ans9)-\n",
    "True always makes the Run object bolded and False makes it always not bolded, no matter what the style’s bold setting is. None will make the Run object just use the style’s bold setting.\n",
    "\n",
    "10. How do you create a Document object for a new Word document?\n",
    "Ans10)-\n",
    "Call the docx.Document() function.\n",
    "\n",
    "\n",
    "11. How do you add a paragraph with the text 'Hello, there!' to a Document object stored in a variable named doc?\n",
    "Ans11)-\n",
    "doc.add_paragraph('Hello there!')\n",
    "\n",
    "12. What integers represent the levels of headings available in Word documents?\n",
    "Ans12)-\n",
    "The integers 0, 1, 2, 3, and 4\n",
    "\n"
   ]
  },
  {
   "cell_type": "code",
   "execution_count": null,
   "id": "9deb70f3",
   "metadata": {},
   "outputs": [],
   "source": []
  }
 ],
 "metadata": {
  "kernelspec": {
   "display_name": "Python 3 (ipykernel)",
   "language": "python",
   "name": "python3"
  },
  "language_info": {
   "codemirror_mode": {
    "name": "ipython",
    "version": 3
   },
   "file_extension": ".py",
   "mimetype": "text/x-python",
   "name": "python",
   "nbconvert_exporter": "python",
   "pygments_lexer": "ipython3",
   "version": "3.9.7"
  }
 },
 "nbformat": 4,
 "nbformat_minor": 5
}
