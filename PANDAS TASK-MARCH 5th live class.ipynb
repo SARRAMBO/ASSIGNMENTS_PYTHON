{
 "cells": [
  {
   "cell_type": "code",
   "execution_count": 1,
   "id": "fa6210a7",
   "metadata": {},
   "outputs": [],
   "source": [
    "import pandas as pd"
   ]
  },
  {
   "cell_type": "code",
   "execution_count": 7,
   "id": "63ab8482",
   "metadata": {},
   "outputs": [],
   "source": [
    "df=pd.read_csv(\"https://raw.githubusercontent.com/datasciencedojo/datasets/master/titanic.csv\")"
   ]
  },
  {
   "cell_type": "markdown",
   "id": "f659d01a",
   "metadata": {},
   "source": [
    "1.FInd out how many male and female passenger onboarded\n",
    "2.How many people survived?\n",
    "3.How many casualities we have?\n",
    "4.What is the name of the person who is the eldest one?\n",
    "5.How many passengers do we have in first second and third class.\n",
    "6.How many persons do we have whose name starts with S\n",
    "7.Try to create a new column which is summation of SIbip and Parch\n",
    "8How many person do we have below the age 25\n",
    "9.How many persons died  beloe the age of 40?\n",
    "10.From a cabin column separate text and numerical value.\n"
   ]
  },
  {
   "cell_type": "code",
   "execution_count": 13,
   "id": "3c60b08b",
   "metadata": {},
   "outputs": [
    {
     "name": "stdout",
     "output_type": "stream",
     "text": [
      "NO of male passengers: 577\n",
      "NO of female passengers: 314\n"
     ]
    }
   ],
   "source": [
    "#Q1-\n",
    "print(\"NO of male passengers:\",len(df[df[\"Sex\"]==\"male\"]))\n",
    "print(\"NO of female passengers:\",len(df)-len(df[df[\"Sex\"]==\"male\"]))"
   ]
  },
  {
   "cell_type": "code",
   "execution_count": 26,
   "id": "268f4604",
   "metadata": {},
   "outputs": [
    {
     "name": "stdout",
     "output_type": "stream",
     "text": [
      "NO of people who survived: 342\n",
      "No of casualities we have: 549\n"
     ]
    }
   ],
   "source": [
    "#Q2 & Q3-\n",
    "print(\"NO of people who survived:\",len(df[df[\"Survived\"]==1]))\n",
    "print(\"No of casualities we have:\",len(df[df[\"Survived\"]==0]))"
   ]
  },
  {
   "cell_type": "code",
   "execution_count": 35,
   "id": "64431c3f",
   "metadata": {},
   "outputs": [
    {
     "name": "stdout",
     "output_type": "stream",
     "text": [
      "Eldest person on board is: Barkworth, Mr. Algernon Henry Wilson\n"
     ]
    }
   ],
   "source": [
    "#Q4-\n",
    "print(\"Eldest person on board is:\", df[df[\"Age\"]==max(df[\"Age\"])][\"Name\"][630])"
   ]
  },
  {
   "cell_type": "code",
   "execution_count": 42,
   "id": "1946cc8b",
   "metadata": {},
   "outputs": [
    {
     "name": "stdout",
     "output_type": "stream",
     "text": [
      "NO of casualities in 2nd class: 184\n",
      "NO of casualities in 3rd class: 491\n"
     ]
    }
   ],
   "source": [
    "#Q5)-\n",
    "print(\"NO of casualities in 2nd class:\",len(df[df[\"Pclass\"]==2]))\n",
    "print(\"NO of casualities in 3rd class:\",len(df[df[\"Pclass\"]==3]))"
   ]
  },
  {
   "cell_type": "code",
   "execution_count": 57,
   "id": "f0fe4d97",
   "metadata": {},
   "outputs": [
    {
     "name": "stdout",
     "output_type": "stream",
     "text": [
      "NO of persons whose name starts with 'S': 86\n"
     ]
    }
   ],
   "source": [
    "#Q6-\n",
    "print(\"NO of persons whose name starts with '{}':\".format(\"S\"),len(df.loc[[i for i in df.index if df[\"Name\"][i][0]==\"S\"]]))\n"
   ]
  },
  {
   "cell_type": "code",
   "execution_count": 61,
   "id": "448e7257",
   "metadata": {},
   "outputs": [],
   "source": [
    "#Q7-\n",
    "df[\"Newcol\"]=df[\"SibSp\"]*df[\"Parch\"]\n"
   ]
  },
  {
   "cell_type": "code",
   "execution_count": 65,
   "id": "eb47ae31",
   "metadata": {},
   "outputs": [
    {
     "name": "stdout",
     "output_type": "stream",
     "text": [
      "NO of people below the age of 25: 278\n"
     ]
    }
   ],
   "source": [
    "#Q8-\n",
    "print(\"NO of people below the age of 25:\",len(df[df[\"Age\"]<25]))"
   ]
  },
  {
   "cell_type": "code",
   "execution_count": 69,
   "id": "2aaeb676",
   "metadata": {},
   "outputs": [
    {
     "name": "stdout",
     "output_type": "stream",
     "text": [
      "No of people who died below the age of 40: 551\n"
     ]
    }
   ],
   "source": [
    "#Q9)-\n",
    "print(\"No of people who died below the age of 40:\",len(df[df.Age<40]))"
   ]
  },
  {
   "cell_type": "code",
   "execution_count": 97,
   "id": "4d932ab2",
   "metadata": {},
   "outputs": [
    {
     "data": {
      "text/plain": [
       "'nan'"
      ]
     },
     "execution_count": 97,
     "metadata": {},
     "output_type": "execute_result"
    }
   ],
   "source": [
    "#Q10-\n",
    "def f(x):\n",
    "    l1=\"\"\n",
    "    count=0\n",
    "    for i in x:\n",
    "        if str(i).isnumeric():\n",
    "            l1=l1+i\n",
    "            count=count+1\n",
    "    if count==0:\n",
    "        return x\n",
    "    else:\n",
    "        return int(l1)\n",
    "def f1(x):\n",
    "    l1=\"\"\n",
    "    count=0\n",
    "    for i in x:\n",
    "        if str(i).isnumeric():\n",
    "            l1=l1+i\n",
    "            count=count+1\n",
    "    if count==0:\n",
    "        return x\n",
    "    else:\n",
    "        return l1\n",
    "def f3(x):\n",
    "    x1=\"\"\n",
    "    for i in x:\n",
    "        if str(i).isdigit():\n",
    "            x1=x1+i\n",
    "        else:\n",
    "            pass\n",
    "    return x1\n",
    "f3(\"C1234X\")  #heres what above defined functions do to arguments\n",
    "f(\"C1234D\")\n",
    "f1(\"C123vvdksaa23\") \n",
    "f1(\"nan\")"
   ]
  },
  {
   "cell_type": "code",
   "execution_count": 85,
   "id": "e2f99582",
   "metadata": {},
   "outputs": [
    {
     "name": "stdout",
     "output_type": "stream",
     "text": [
      "'float' object is not iterable\n"
     ]
    }
   ],
   "source": [
    "#UNDERSTOOD AS A COLUMN CANT HAVE MULTIPLE DATATYPES IN IT\n",
    "try:\n",
    "    df.Cabin=df.Cabin.apply(f)\n",
    "except Exception as e:\n",
    "    print(str(e))\n"
   ]
  },
  {
   "cell_type": "code",
   "execution_count": 87,
   "id": "56b37436",
   "metadata": {},
   "outputs": [
    {
     "name": "stdout",
     "output_type": "stream",
     "text": [
      "'float' object is not iterable\n"
     ]
    }
   ],
   "source": [
    "###DOUBT###\n",
    "try:\n",
    "    df.Cabin=df.Cabin.apply(f1) #here it showed error on the original dataframe df\n",
    "except Exception as e:\n",
    "    print(str(e))\n",
    "else:\n",
    "    print(\"Executed successfully\")"
   ]
  },
  {
   "cell_type": "code",
   "execution_count": 91,
   "id": "cd9917f9",
   "metadata": {},
   "outputs": [
    {
     "name": "stderr",
     "output_type": "stream",
     "text": [
      "C:\\Users\\UTILIZER\\AppData\\Local\\Temp/ipykernel_15788/3556541240.py:2: SettingWithCopyWarning: \n",
      "A value is trying to be set on a copy of a slice from a DataFrame.\n",
      "Try using .loc[row_indexer,col_indexer] = value instead\n",
      "\n",
      "See the caveats in the documentation: https://pandas.pydata.org/pandas-docs/stable/user_guide/indexing.html#returning-a-view-versus-a-copy\n",
      "  df1[\"Cabin\"]=df1[\"Cabin\"].apply(f3)\n"
     ]
    }
   ],
   "source": [
    "#new data frame df1 created by filtering out all null values from the original dataframe df and f3 function applied on top of Cabin column of df1.\n",
    "df1=df[df[\"Cabin\"].isnull()==False] #filtering out all the null values in cabin column and storing it in a new dataframe object\n",
    "df1[\"Cabin\"]=df1[\"Cabin\"].apply(f3) #its done succesffully"
   ]
  },
  {
   "cell_type": "code",
   "execution_count": 94,
   "id": "4257e357",
   "metadata": {},
   "outputs": [
    {
     "data": {
      "text/plain": [
       "dtype('O')"
      ]
     },
     "execution_count": 94,
     "metadata": {},
     "output_type": "execute_result"
    }
   ],
   "source": [
    "df1\n",
    "df1.dtypes[\"Cabin\"] #although i coudnt change the data type of column \"Cabin\" through function f3,which i intended to do with f and f1 on the original"
   ]
  },
  {
   "cell_type": "code",
   "execution_count": null,
   "id": "82d51bad",
   "metadata": {},
   "outputs": [],
   "source": []
  }
 ],
 "metadata": {
  "kernelspec": {
   "display_name": "Python 3 (ipykernel)",
   "language": "python",
   "name": "python3"
  },
  "language_info": {
   "codemirror_mode": {
    "name": "ipython",
    "version": 3
   },
   "file_extension": ".py",
   "mimetype": "text/x-python",
   "name": "python",
   "nbconvert_exporter": "python",
   "pygments_lexer": "ipython3",
   "version": "3.9.7"
  }
 },
 "nbformat": 4,
 "nbformat_minor": 5
}
