{
 "cells": [
  {
   "cell_type": "markdown",
   "id": "8bc6526c",
   "metadata": {},
   "source": [
    "1. What exactly is []?\n",
    "Ans1)- The above thing is an empty list capable of holding collection of heterogeneous data types.\n",
    "\n",
    "2. In a list of values stored in a variable called spam, how would you assign the value 'hello' as the third value? (Assume [2, 4, 6, 8, 10] are in spam.)\n",
    "Let's pretend the spam includes the list ['a', 'b', 'c', 'd'] for the next three queries.\n",
    "Ans2)- \n",
    "      Since list indices are mutable,they can be altered at the original memory location.\n",
    "      spam[2]= \"hello\" (since first index starts with 0.\n",
    "\n",
    "3. What is the value of spam[int(int('3' * 2) / 11)]?\n",
    "Ans3)-\n",
    "Since the computational result inside results in 3. int(str(3)*2)=33 and int(33/11)=3\n",
    "     spam[3]= 'd'\n",
    "\n",
    "\n",
    "4. What is the value of spam[-1]?\n",
    "Ans4)-\n",
    "     spam[-1]= \"d\"\n",
    "\n",
    "\n",
    "5. What is the value of spam[:2]?\n",
    "ANs5)-    spam[:2]=  ['a','b']\n",
    "\n",
    "Let's pretend bacon has the list [3.14, 'cat,' 11, 'cat,' True] for the next three questions.\n",
    "6. What is the value of bacon.index('cat')?\n",
    "Ans6)- Since .index() gives the lowest possible index of inserted object-\n",
    "            bacon.index('cat')= 1\n",
    "\n",
    "7. How does bacon.append(99) change the look of the list value in bacon?\n",
    "Ans7)- .append() function inserts an iterable or non iterable entity as a single entry inside the list.\n",
    "          bacon=[3.14,'cat',1,'cat',True,99]\n",
    "\n",
    "8. How does bacon.remove('cat') change the look of the list in bacon?\n",
    "Ans8)- \n",
    "       bacon.remove('cat') removes the entry from lower indices first.\n",
    "       bacon=[3.14,1,'cat',True]\n",
    "       \n",
    "9. What are the list concatenation and list replication operators?\n",
    "Ans9)-  List concatenation operator is (+) whereas list replication operator is (*),both of these exhibit examples of polymorphism(nature varying upon nature of data types in operands).\n",
    "\n",
    "10. What is difference between the list methods append() and insert()?\n",
    "Ans10)-  append()- inserts an iterable or non iterable entity as one single entry inside the list towards the last.\n",
    "         insert()-inserts desired data of a certain data type at the desired index shifting former entity at that index              towards the right.\n",
    "\n",
    "\n",
    "11. What are the two methods for removing items from a list?\n",
    "Ans11)-\n",
    "        pop()- removes entry from the list on the basis of index inserted.If no index is inserted,default index is(-1),ie \n",
    "        entry from -1 index is removed.\n",
    "        \n",
    "        remove()- removes on the basis of data inside the list and not on index basis.\n",
    "        \n",
    "        del statement also removes all values from a list.\n",
    "\n",
    "12. Describe how list values and string values are identical.\n",
    "Ans12)-\n",
    "       Both lists and strings can be passed to len(), have indexes and slices, be used in for loops, be concatenated or            replicated, and be used with the in and not in operators.Both are iterable,data slcing is possible in both and both \n",
    "       have indices which are subscriptable as well.\n",
    "\n",
    "\n",
    "\n",
    "13. What's the difference between tuples and lists?\n",
    "Ans13)-\n",
    "       Both tuple and list are capable of storing collection of heterogeneous data types,but the difference is that tuple   indices cannot be manipulated at the original memory address(immutable) whereas list indices can be manipulated at the original memory location(mutable).\n",
    "       \n",
    "       Due to immutability only,count(),index() exist in tuples wheras list has wide variety of functions other than just count() and index().\n",
    "\n",
    "14. How do you type a tuple value that only contains the integer 42?\n",
    "Ans14)- t=42,        (automatically t gets stored in a tuple)\n",
    "\n",
    "15. How do you get a list value's tuple form? How do you get a tuple value's list form?\n",
    "Ans15) By typecasting list variable into tuple by using function tuple()\n",
    "       By typecasting tuples variable into list by using function list()\n",
    "\n",
    "16. Variables that \"contain\" list values are not necessarily lists themselves. Instead, what do they contain?\n",
    "Ans16)- They might contain nested list stored in some other collection of heterogeneous data type(ex tuple).\n",
    "        They contain references to list values.\n",
    "\n",
    "        \n",
    "17. How do you distinguish between copy.copy() and copy.deepcopy()?\n",
    "Ans17)-  The copy.copy() function will do a shallow copy of a list, while the copy.deepcopy() function will do a deep copy          of a list. That is, only copy.deepcopy() will duplicate any lists inside the list.\n",
    "\n"
   ]
  },
  {
   "cell_type": "code",
   "execution_count": 7,
   "id": "a923cbc5",
   "metadata": {},
   "outputs": [
    {
     "data": {
      "text/plain": [
       "['a', 'b']"
      ]
     },
     "execution_count": 7,
     "metadata": {},
     "output_type": "execute_result"
    }
   ],
   "source": [
    "#Q3,#Q5-\n",
    "spam=[\"a\",\"b\",\"c\",\"d\"]\n",
    "spam[int(int('3' * 2) / 11)]\n",
    "spam[:2]"
   ]
  },
  {
   "cell_type": "code",
   "execution_count": 10,
   "id": "4d036cb6",
   "metadata": {},
   "outputs": [
    {
     "data": {
      "text/plain": [
       "[3.14, 1, 'cat', True]"
      ]
     },
     "execution_count": 10,
     "metadata": {},
     "output_type": "execute_result"
    }
   ],
   "source": [
    "#Q8-\n",
    "bacon=[3.14,'cat',1,'cat',True]\n",
    "bacon.remove('cat')\n",
    "bacon"
   ]
  },
  {
   "cell_type": "code",
   "execution_count": null,
   "id": "35028503",
   "metadata": {},
   "outputs": [],
   "source": []
  }
 ],
 "metadata": {
  "kernelspec": {
   "display_name": "Python 3",
   "language": "python",
   "name": "python3"
  },
  "language_info": {
   "codemirror_mode": {
    "name": "ipython",
    "version": 3
   },
   "file_extension": ".py",
   "mimetype": "text/x-python",
   "name": "python",
   "nbconvert_exporter": "python",
   "pygments_lexer": "ipython3",
   "version": "3.8.8"
  }
 },
 "nbformat": 4,
 "nbformat_minor": 5
}
