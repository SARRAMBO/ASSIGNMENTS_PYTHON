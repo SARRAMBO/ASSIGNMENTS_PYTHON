{
 "cells": [
  {
   "cell_type": "markdown",
   "id": "7e304750",
   "metadata": {},
   "source": [
    "1. Create an assert statement that throws an AssertionError if the variable spam is a negative integer.\n",
    "2. Write an assert statement that triggers an AssertionError if the variables eggs and bacon contain strings that are the same as each other, even if their cases are different (that is, 'hello' and 'hello' are considered the same, and 'goodbye' and 'GOODbye' are also considered the same).\n",
    "3. Create an assert statement that throws an AssertionError every time.\n",
    "4. What are the two lines that must be present in your software in order to call logging.debug()?\n",
    "5. What are the two lines that your program must have in order to have logging.debug() send a logging message to a file named programLog.txt?\n",
    "6. What are the five levels of logging?\n",
    "7. What line of code would you add to your software to disable all logging messages?\n",
    "8.Why is using logging messages better than using print() to display the same message?\n",
    "9. What are the differences between the Step Over, Step In, and Step Out buttons in the debugger?\n",
    "10.After you click Continue, when will the debugger stop ?\n",
    "11. What is the concept of a breakpoint?\n",
    "\n"
   ]
  },
  {
   "cell_type": "markdown",
   "id": "b9c5c955",
   "metadata": {},
   "source": [
    "Q1. Create an assert statement that throws an AssertionError if the variable spam is a negative integer."
   ]
  },
  {
   "cell_type": "code",
   "execution_count": 6,
   "id": "cb5041e7",
   "metadata": {},
   "outputs": [
    {
     "name": "stdout",
     "output_type": "stream",
     "text": [
      "input a number greater than or equal to zero-4\n",
      "Negative integer is not supposed to be put\n"
     ]
    }
   ],
   "source": [
    "#Ans1)-\n",
    "try:\n",
    "    spam=int(input((\"input a number greater than or equal to zero\")))\n",
    "    assert spam >=0, \"Negative integer is not supposed to be put\"\n",
    "except Exception as e:\n",
    "    print(str(e))\n",
    "\n",
    "        \n",
    "    \n",
    "    \n",
    "\n",
    "    \n",
    "  \n",
    "    "
   ]
  },
  {
   "cell_type": "markdown",
   "id": "fbd310dc",
   "metadata": {},
   "source": [
    "Q2-Write an assert statement that triggers an AssertionError if the variables eggs and bacon contain strings that are the same as each other, even if their cases are different (that is, 'hello' and 'hello' are considered the same, and 'goodbye' and 'GOODbye' are also considered the same)."
   ]
  },
  {
   "cell_type": "code",
   "execution_count": 10,
   "id": "c74b2c46",
   "metadata": {},
   "outputs": [
    {
     "name": "stdout",
     "output_type": "stream",
     "text": [
      "Enter a string in variable eggsGOODbye\n",
      "enter a string in variable bacongoodbye\n",
      "Both variables are not supposed to store same value\n"
     ]
    }
   ],
   "source": [
    "#ANS2)-\n",
    "try:\n",
    "    eggs=input(\"Enter a string in variable eggs\")\n",
    "    bacon=input(\"enter a string in variable bacon\")\n",
    "    assert bacon.casefold()!=eggs.casefold(),\"Both variables are not supposed to store same value\"\n",
    "except Exception as e:\n",
    "    print(str(e))"
   ]
  },
  {
   "cell_type": "markdown",
   "id": "7c7488df",
   "metadata": {},
   "source": [
    "Q3. Create an assert statement that throws an AssertionError every time."
   ]
  },
  {
   "cell_type": "code",
   "execution_count": null,
   "id": "fdf6d690",
   "metadata": {},
   "outputs": [
    {
     "name": "stdout",
     "output_type": "stream",
     "text": [
      "Enter anythingdjsjdj\n",
      "Assertion error to be put everytime\n",
      "Take another chance\n",
      "Enter anythingdjsjdjsdj\n",
      "Assertion error to be put everytime\n",
      "Take another chance\n",
      "Enter anything0shahdsha\n",
      "Assertion error to be put everytime\n",
      "Take another chance\n",
      "Enter anything829\n",
      "Assertion error to be put everytime\n",
      "Take another chance\n",
      "Enter anythinghahdshahda\n",
      "Assertion error to be put everytime\n",
      "Take another chance\n"
     ]
    }
   ],
   "source": [
    "#Q3)-\n",
    "\n",
    "while True:\n",
    "    try:\n",
    "        s=input(\"Enter anything\")\n",
    "        assert True==False,\"Assertion error to be put everytime\"\n",
    "    \n",
    "    except Exception as e:\n",
    "        print(str(e))\n",
    "        \n",
    "    else:\n",
    "        print(\"Assertion error is broken\")\n",
    "        break\n",
    "    \n",
    "    finally:\n",
    "        print(\"Take another chance\")\n",
    "\n",
    "    \n",
    "    \n"
   ]
  },
  {
   "cell_type": "markdown",
   "id": "bbb1a820",
   "metadata": {},
   "source": [
    "Q4. What are the two lines that must be present in your software in order to call logging.debug()?"
   ]
  },
  {
   "cell_type": "code",
   "execution_count": null,
   "id": "69d24387",
   "metadata": {},
   "outputs": [],
   "source": [
    "#Ans 4)-\n",
    "import logging #importing logging module \n",
    "logging.BasicConfig(filename=\"file.log\",level=lg.DEBUG,format=\"%(asctime)s %(message)s\") \n",
    "#mentioning minimum criticality level as lg.DEBUG in order for lg.debug to be called and executed properly."
   ]
  },
  {
   "cell_type": "markdown",
   "id": "9f870fa5",
   "metadata": {},
   "source": [
    "Q5)What are the two lines that your program must have in order to have logging.debug() send a logging message to a file named programLog.txt?"
   ]
  },
  {
   "cell_type": "code",
   "execution_count": null,
   "id": "b9565347",
   "metadata": {},
   "outputs": [],
   "source": [
    "#Ans5)-\n",
    "import logging #importing logging module \n",
    "logging.BasicConfig(filename=\"programLog.txt\",level=lg.DEBUG,format=\"%(asctime)s %(message)s\") \n",
    "#setting minimum criticality level to be logged as lg.DEBUG in order for lg.debug to be called and send a message to the filename mentioned above.\n"
   ]
  },
  {
   "cell_type": "markdown",
   "id": "be781eee",
   "metadata": {},
   "source": [
    "Q6)- What are the five levels of logging?"
   ]
  },
  {
   "cell_type": "markdown",
   "id": "c0f16e1d",
   "metadata": {},
   "source": [
    "Ans6)- DEBUG<INFO<WARNING<ERROR<CRITICAL "
   ]
  },
  {
   "cell_type": "markdown",
   "id": "d0744a1c",
   "metadata": {},
   "source": [
    "Q7)-What line of code would you add to your software to disable all logging messages?"
   ]
  },
  {
   "cell_type": "code",
   "execution_count": 3,
   "id": "ef2f86aa",
   "metadata": {},
   "outputs": [],
   "source": [
    "#Ans7)-\n",
    "import logging\n",
    "logging.disable(logging.CRITICAL) #to disable loggiing in python.3.8.3"
   ]
  },
  {
   "cell_type": "markdown",
   "id": "ba0121b8",
   "metadata": {},
   "source": [
    "Q8.Why is using logging messages better than using print() to display the same message?"
   ]
  },
  {
   "cell_type": "markdown",
   "id": "071638ce",
   "metadata": {},
   "source": [
    "Ans8)- Logging message helps user capture every instance or flow of a code logged in a separate logger file.\n",
    "       Logging is better than print statement as it doesnt print anything on console for knowing the flow of code and thus deviating from main output of code. "
   ]
  },
  {
   "cell_type": "markdown",
   "id": "f3159a0f",
   "metadata": {},
   "source": [
    "Q9)- What are the differences between the Step Over, Step In, and Step Out buttons in the debugger?"
   ]
  },
  {
   "cell_type": "code",
   "execution_count": null,
   "id": "7fb5dd90",
   "metadata": {},
   "outputs": [],
   "source": [
    "#Ans9)-Example can be explained with the help of a code-\n",
    "def method1():\n",
    "    print(\"method1\")\n",
    "\n",
    "def method2():\n",
    "    print(\"method2\")\n",
    "\n",
    "def understandDebugging():\n",
    "    method1()\n",
    "    method2()\n"
   ]
  },
  {
   "cell_type": "markdown",
   "id": "89af6b59",
   "metadata": {},
   "source": [
    "Ans9)-\n",
    "Step into: go inside the function. You are at line 9 and you want to go inside method1, then use step into. Now control goes to line 3.\n",
    "\n",
    "Step over: moves to next line. It does not go inside the function. It goes line by line. You are at line 9 and you don’t want to go inside method1, then use step over. Now control goes to line 10.\n",
    "\n",
    "Step out: you want to go outside the function. You are at line 3 and you want to go outside method1, then use step out. Now control goes to line 9."
   ]
  },
  {
   "cell_type": "markdown",
   "id": "f995d557",
   "metadata": {},
   "source": [
    "Q10.After you click Continue, when will the debugger stop ?"
   ]
  },
  {
   "cell_type": "markdown",
   "id": "91ec1e76",
   "metadata": {},
   "source": [
    "Ans10)- After you click Go, the debugger will stop when it has reached the end of the program or a line with a breakpoint.\n",
    "\n"
   ]
  },
  {
   "cell_type": "markdown",
   "id": "9ab2d780",
   "metadata": {},
   "source": [
    "Q11)-What is the concept of a breakpoint?"
   ]
  },
  {
   "cell_type": "markdown",
   "id": "654e5f29",
   "metadata": {},
   "source": [
    "Ans11)A breakpoint is a setting on a line of code that causes the debugger to pause when the program execution reaches the line."
   ]
  },
  {
   "cell_type": "code",
   "execution_count": null,
   "id": "82ad8b3a",
   "metadata": {},
   "outputs": [],
   "source": []
  }
 ],
 "metadata": {
  "kernelspec": {
   "display_name": "Python 3 (ipykernel)",
   "language": "python",
   "name": "python3"
  },
  "language_info": {
   "codemirror_mode": {
    "name": "ipython",
    "version": 3
   },
   "file_extension": ".py",
   "mimetype": "text/x-python",
   "name": "python",
   "nbconvert_exporter": "python",
   "pygments_lexer": "ipython3",
   "version": "3.9.7"
  }
 },
 "nbformat": 4,
 "nbformat_minor": 5
}
