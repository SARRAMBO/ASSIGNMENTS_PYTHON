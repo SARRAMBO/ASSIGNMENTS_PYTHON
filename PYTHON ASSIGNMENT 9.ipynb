{
 "cells": [
  {
   "cell_type": "markdown",
   "id": "c61923a4",
   "metadata": {},
   "source": [
    "1. To what does a relative path refer?\n",
    "Ans1)-Relative paths are relative to the current working directory.\n",
    "Ex- if we point to a subdirectory inside the present working directory we will use command os.chdir(os.getcwd()+\"\\\\:directoryname\").The latter string\"\\\\:directoryname\" is referred to as relative path wrt present working directory. \n",
    "\n",
    "2. What does an absolute path start with your operating system?\n",
    "Ans2)-Absolute path starts with the root folder.In the above example the combination of both strings os.getcwd()+\"\\\\:directoryname\" gives the abosulute path to subdirectory from root folder.\n",
    "\n",
    "3. What do the functions os.getcwd() and os.chdir() do?\n",
    "Ans3)- os.getcwd() or pwd() gives us the current working directory or the directory where is OS is currently pointing to.\n",
    "os.chdir()- changes the current working directory and lets os point to the directory through the path inserted in the function.\n",
    "\n",
    "4. What are the . and .. folders?\n",
    "Ans4)-The . folder is the current folder, and .. is the parent folder.\n",
    "\n",
    "5. In C:\\bacon\\eggs\\spam.txt, which part is the dir name, and which part is the base name?\n",
    "Ans5)-C:\\bacon\\eggs is the dir name, while spam.txt is the base name.\n",
    "\n",
    "6. What are the three “mode” arguments that can be passed to the open() function?\n",
    "And6)-'r\"- open for reading (default)\n",
    "'w'   -    open for writing, truncating the file first\n",
    "'x'   -    create a new file and open it for writing\n",
    "'a'   -   open for writing, appending to the end of the file if it exists\n",
    "'b'   -    binary mode\n",
    "'t'   -    text mode (default)\n",
    "'+'   -    open a disk file for updating (reading and writing)\n",
    "'U'   -    universal newline mode (deprecated)\n",
    "\n",
    "7. What happens if an existing file is opened in write mode?\n",
    "Ans7)-'w'- open for writing, truncating/deleting previous content of the file(in any), first.\n",
    "\n",
    "8. How do you tell the difference between read() and readlines()?\n",
    "Ans8)-\n",
    "    read()- reads entire text in a file in one go.\n",
    "    readline()-reads entire text in a file until it encounters escape character(\"\\n\").\n",
    "    The read() method returns the file’s entire contents as a single string value. The readlines() method returns a list of         strings, where each string is a line from the file’s contents.\n",
    "    \n",
    "9. What data structure does a shelf value resemble?\n",
    "Ans9)-A shelf value resembles a dictionary value; it has keys and values, along with keys() and values() methods that work similarly to the dictionary methods of the same names."
   ]
  },
  {
   "cell_type": "code",
   "execution_count": null,
   "id": "279b62ec",
   "metadata": {},
   "outputs": [],
   "source": [
    "f=open(\"SARTHAK.txt\",)"
   ]
  }
 ],
 "metadata": {
  "kernelspec": {
   "display_name": "Python 3 (ipykernel)",
   "language": "python",
   "name": "python3"
  },
  "language_info": {
   "codemirror_mode": {
    "name": "ipython",
    "version": 3
   },
   "file_extension": ".py",
   "mimetype": "text/x-python",
   "name": "python",
   "nbconvert_exporter": "python",
   "pygments_lexer": "ipython3",
   "version": "3.9.7"
  }
 },
 "nbformat": 4,
 "nbformat_minor": 5
}
