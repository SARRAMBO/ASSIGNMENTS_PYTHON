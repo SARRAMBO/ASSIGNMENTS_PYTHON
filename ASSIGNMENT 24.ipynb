{
 "cells": [
  {
   "cell_type": "markdown",
   "id": "d49016f2",
   "metadata": {},
   "source": [
    "1. What is the relationship between def statements and lambda expressions ?\n",
    "Ans1)-Alongwith the def statement,we have to define the function name,arguments(if any) in the function signature and return statment.\n",
    "Alongwith lambda(anonymous function) we need not define the function name in the function signature.The return statment,return data type including the function arguments get stated in only one single line.\n",
    "\n",
    "\n",
    "2. What is the benefit of lambda?\n",
    "Ans2)-\n",
    "Lambda is an anonymous function which helps us define and call a function in the runtime without having to state the function's name in signature.\n",
    "\n",
    "3. Compare and contrast map, filter, and reduce.\n",
    "Ans3) given below.\n",
    "\n",
    "4. What are function annotations, and how are they used?\n",
    "Ans4)-\n",
    "Function annotations are arbitrary python expressions that are associated with various part of functions. These expressions are evaluated at compile time and have no life in python’s runtime environment. Python does not attach any meaning to these annotations. They take life when interpreted by third party libraries, for example, mypy.\n",
    "\n",
    "\n",
    "5. What are recursive functions, and how are they used?\n",
    "Ans5)-A recursive function is a function that calls itself during its execution. The process may repeat several times, outputting the result and the end of each iteration.\n",
    "\n",
    "6. What are some general design guidelines for coding functions?\n",
    "Ans6)-\n",
    "Function must be called by passing the same number and type of arguments(where or not they are being used in the body)as mentioned in function signature.\n",
    "-Its a good coding practice to enclose the function information in a docstring.\n",
    "-Functions are meant to achieve reusability of repititive code,so its advisable to use functions only when a repititive code has to be put in its body.\n",
    "\n",
    "7. Name three or more ways that functions can communicate results to a caller.\n",
    "\n",
    "Ans7)-\n",
    "By return statement,the function returns the data type of the value obtained by computation or arguments defined/not at the time of function call.Can be used for further computation\n",
    "\n",
    "By print statement,the function only prints the compuational value on the console,but it cant be used for further computation as it is stored as Nonetype.\n",
    "\n",
    "By yield statements,the function (generator function)does computations and stores it in a object which is only to be shown when its typecasted in list or iterated through an iterator.\n"
   ]
  },
  {
   "cell_type": "code",
   "execution_count": 5,
   "id": "224ae000",
   "metadata": {},
   "outputs": [
    {
     "data": {
      "text/plain": [
       "[3, 6, 9, 12, 15]"
      ]
     },
     "execution_count": 5,
     "metadata": {},
     "output_type": "execute_result"
    }
   ],
   "source": [
    "#Q3-\n",
    "def f(x):\n",
    "    return x*3 \n",
    "l=[1,2,3,4,5]\n",
    "l1=list(map(f,l)) #maps a particular function over a list of elements.\n",
    "l1\n"
   ]
  },
  {
   "cell_type": "code",
   "execution_count": 7,
   "id": "7c5995b6",
   "metadata": {},
   "outputs": [
    {
     "data": {
      "text/plain": [
       "[4, 5]"
      ]
     },
     "execution_count": 7,
     "metadata": {},
     "output_type": "execute_result"
    }
   ],
   "source": [
    "#Q3\n",
    "l=list(filter(lambda x:x>3,l))#filters out the elements in list based on fucntion's condition.\n",
    "l"
   ]
  },
  {
   "cell_type": "code",
   "execution_count": 9,
   "id": "c5109537",
   "metadata": {},
   "outputs": [],
   "source": [
    "#Q3-\n",
    "from functools import reduce\n",
    "k=[1,2,3,4,5]"
   ]
  },
  {
   "cell_type": "code",
   "execution_count": 10,
   "id": "a0cabd05",
   "metadata": {},
   "outputs": [],
   "source": [
    "def fr(x,y):\n",
    "    return x*y"
   ]
  },
  {
   "cell_type": "code",
   "execution_count": 11,
   "id": "6f60683d",
   "metadata": {},
   "outputs": [
    {
     "data": {
      "text/plain": [
       "120"
      ]
     },
     "execution_count": 11,
     "metadata": {},
     "output_type": "execute_result"
    }
   ],
   "source": [
    "reduce(fr,k) #returns the last compuational result of all elements in list."
   ]
  },
  {
   "cell_type": "code",
   "execution_count": 5,
   "id": "27ab7316",
   "metadata": {},
   "outputs": [
    {
     "name": "stdout",
     "output_type": "stream",
     "text": [
      "Factorial of number 6 = 720\n"
     ]
    }
   ],
   "source": [
    "#Q5-# Program to print factorial of a number\n",
    "# recursively.\n",
    "\n",
    "# Recursive function\n",
    "def recursive_factorial(n):\n",
    "    if n == 1:\n",
    "        return n\n",
    "    else:\n",
    "        return n * recursive_factorial(n-1)\n",
    "\n",
    "# user input\n",
    "num = 6\n",
    "\n",
    "#check if the input is valid or not\n",
    "if num < 0:\n",
    "    print(\"Invalid input ! Please enter a positive number.\")\n",
    "elif num == 0:\n",
    "    print(\"Factorial of number 0 is 1\")\n",
    "else:\n",
    "    print(\"Factorial of number\", num, \"=\", recursive_factorial(num))\n"
   ]
  },
  {
   "cell_type": "code",
   "execution_count": null,
   "id": "d81fe130",
   "metadata": {},
   "outputs": [],
   "source": []
  }
 ],
 "metadata": {
  "kernelspec": {
   "display_name": "Python 3 (ipykernel)",
   "language": "python",
   "name": "python3"
  },
  "language_info": {
   "codemirror_mode": {
    "name": "ipython",
    "version": 3
   },
   "file_extension": ".py",
   "mimetype": "text/x-python",
   "name": "python",
   "nbconvert_exporter": "python",
   "pygments_lexer": "ipython3",
   "version": "3.9.7"
  }
 },
 "nbformat": 4,
 "nbformat_minor": 5
}
